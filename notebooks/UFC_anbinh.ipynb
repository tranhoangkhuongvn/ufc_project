{
  "nbformat": 4,
  "nbformat_minor": 0,
  "metadata": {
    "kernelspec": {
      "display_name": "Python 3",
      "language": "python",
      "name": "python3"
    },
    "language_info": {
      "codemirror_mode": {
        "name": "ipython",
        "version": 3
      },
      "file_extension": ".py",
      "mimetype": "text/x-python",
      "name": "python",
      "nbconvert_exporter": "python",
      "pygments_lexer": "ipython3",
      "version": "3.7.3"
    },
    "colab": {
      "name": "Copy of Team 1 - UFC Fighters.ipynb",
      "provenance": [],
      "collapsed_sections": [],
      "toc_visible": true
    }
  },
  "cells": [
    {
      "cell_type": "markdown",
      "metadata": {
        "id": "sZLXwN96YJdO"
      },
      "source": [
        "# Team 1 - UFC Fighters\n",
        "\n",
        "\n",
        "![](https://cdn.vox-cdn.com/thumbor/z_CMbdCm8HZrJh-lKL3GGjSKM-8=/0x0:2440x1627/1200x800/filters:focal(1212x228:1602x618)/cdn.vox-cdn.com/uploads/chorus_image/image/65759283/110_Robbie_Lawler_x_Ben_Askren.0.jpg)\n",
        "\n",
        "_For more information about the dataset, read [here](https://www.kaggle.com/rajeevw/ufcdata)._\n",
        "\n",
        "## Tasks\n",
        "- General introduction to MMA. \n",
        "- Clean the data\n",
        "- Perform Exploratory Data Analysis on the dataset\n"
      ]
    },
    {
      "cell_type": "markdown",
      "metadata": {
        "id": "oJpOAJIwtGDo"
      },
      "source": [
        "# General introduction to UFC - MMA\n",
        "\n",
        "*   MMA\n",
        "\n",
        "Mixed martial arts (MMA) is a full-contact combat sport that allows a wide variety of fighting techniques and skills from a mixture of other combat sports to be used in competition. The rules allow usage of both striking and grappling techniques while standing and on the ground. Competitions allow athletes of different backgrounds to compet\n",
        "\n",
        "Stand-up: Boxing, Kickboxing, Muay Thai, Karate, Taekwondo, Capoeira, Combat Sambo, Savate, and Wushu Sanshou are trained to improve stand-up striking.\n",
        "\n",
        "Clinch: Judo, Catch Wrestling, Freestyle Wrestling, Greco-Roman wrestling, Luta Livre, Sambo, and Wushu Sanshou are trained to improve clinching, takedowns and throws, while Muay Thai is trained to improve the striking aspect of the clinch.\n",
        "\n",
        "Ground: Brazilian Jiu-Jitsu, Judo, Sambo, Catch wrestling and Luta Livre are trained to improve ground control and position, as well as to achieve submission holds, and defend against them.\n",
        "\n",
        "*  UFC\n",
        "\n",
        "Starting way back on 12th November 1993, the Ultimate Fighting Championship (UFC) looked to find out which of the traditional martial arts was the most effective in a real fighting situation.\n",
        "\n",
        "With no weight limits and very few rules, competitors would enter a one-night tournament to prove that their style of fighting was the best. \n",
        "These one-night tournaments and new sport had its supporters, but due to its lack of rules and self-touted barbaric nature there were many calls to ban it. \n",
        "\n",
        "With mounting pressures from local and national government the UFC evolved into what we know it as today.  Weight divisions were included, unified rules made and applied and most importantly, athletic commission involvement.\n",
        "\n",
        "The biggest and most important change within the UFC though, was the sale from original owners SEG to Zuffa in 2001.  Taking the best elements of other combat sports and also professional wrestling showmanship and presentation, the UFC has turned MMA into the fastest growing sport on the planet.\n",
        "\n",
        "A match in MMA can end in a number of ways.  You can win either by knockout, technical knockout (referee stoppage), submission, corner stoppage or doctor stoppage (cuts, swelling etc).\n",
        "\n",
        "Many have tried to label MMA as barbaric, but this couldn’t be further from the truth.  It is an extremely safe sport.  Is there blood?  Sure, but not as much as some would make out and certainly not that much more than boxing.  At its very best, MMA is a technical masterpiece and while it can take a while to fully understand and appreciate all of the technical aspects that can go on in a fight, you need not worry as on every UFC card there is always an exciting fight and each card will generally have at least one stand up (boxing preference) fight.\n",
        "\n",
        "If you’re new and have heard about the UFC but have not seen it, then try to catch a glimpse and see what the fuss is all about.\n",
        "\n"
      ]
    },
    {
      "cell_type": "markdown",
      "metadata": {
        "id": "eEGoZFhlfM6y"
      },
      "source": [
        "## Dataset1: Total fights"
      ]
    },
    {
      "cell_type": "code",
      "metadata": {
        "id": "s5m0ybdeewgt"
      },
      "source": [
        "# Import packages\n",
        "import pandas as pd\n",
        "import numpy as np\n",
        "import math\n",
        "\n",
        "import matplotlib.pyplot as plt\n",
        "%matplotlib inline\n",
        "import matplotlib as mpl\n",
        "mpl.style.use('seaborn-whitegrid')  # Setting figure style\n",
        "from matplotlib import colors as mcolors"
      ],
      "execution_count": null,
      "outputs": []
    },
    {
      "cell_type": "code",
      "metadata": {
        "colab": {
          "base_uri": "https://localhost:8080/"
        },
        "id": "68as4XhRexzG",
        "outputId": "96b53928-97b2-4df8-85bd-66b19d05ae57"
      },
      "source": [
        "from google.colab import drive\n",
        "drive.mount('/content/drive')"
      ],
      "execution_count": null,
      "outputs": [
        {
          "output_type": "stream",
          "text": [
            "Mounted at /content/drive\n"
          ],
          "name": "stdout"
        }
      ]
    },
    {
      "cell_type": "code",
      "metadata": {
        "colab": {
          "base_uri": "https://localhost:8080/",
          "height": 405
        },
        "id": "BFvQ7LW6e0ev",
        "outputId": "654fc2c0-6fb8-4391-ee47-3af2f9d8388a"
      },
      "source": [
        "raw_df = pd.read_csv('/content/drive/MyDrive/raw_total_fight_data.csv', sep=';')\n",
        "raw_df.head()"
      ],
      "execution_count": null,
      "outputs": [
        {
          "output_type": "execute_result",
          "data": {
            "text/html": [
              "<div>\n",
              "<style scoped>\n",
              "    .dataframe tbody tr th:only-of-type {\n",
              "        vertical-align: middle;\n",
              "    }\n",
              "\n",
              "    .dataframe tbody tr th {\n",
              "        vertical-align: top;\n",
              "    }\n",
              "\n",
              "    .dataframe thead th {\n",
              "        text-align: right;\n",
              "    }\n",
              "</style>\n",
              "<table border=\"1\" class=\"dataframe\">\n",
              "  <thead>\n",
              "    <tr style=\"text-align: right;\">\n",
              "      <th></th>\n",
              "      <th>R_fighter</th>\n",
              "      <th>B_fighter</th>\n",
              "      <th>R_KD</th>\n",
              "      <th>B_KD</th>\n",
              "      <th>R_SIG_STR.</th>\n",
              "      <th>B_SIG_STR.</th>\n",
              "      <th>R_SIG_STR_pct</th>\n",
              "      <th>B_SIG_STR_pct</th>\n",
              "      <th>R_TOTAL_STR.</th>\n",
              "      <th>B_TOTAL_STR.</th>\n",
              "      <th>R_TD</th>\n",
              "      <th>B_TD</th>\n",
              "      <th>R_TD_pct</th>\n",
              "      <th>B_TD_pct</th>\n",
              "      <th>R_SUB_ATT</th>\n",
              "      <th>B_SUB_ATT</th>\n",
              "      <th>R_PASS</th>\n",
              "      <th>B_PASS</th>\n",
              "      <th>R_REV</th>\n",
              "      <th>B_REV</th>\n",
              "      <th>R_HEAD</th>\n",
              "      <th>B_HEAD</th>\n",
              "      <th>R_BODY</th>\n",
              "      <th>B_BODY</th>\n",
              "      <th>R_LEG</th>\n",
              "      <th>B_LEG</th>\n",
              "      <th>R_DISTANCE</th>\n",
              "      <th>B_DISTANCE</th>\n",
              "      <th>R_CLINCH</th>\n",
              "      <th>B_CLINCH</th>\n",
              "      <th>R_GROUND</th>\n",
              "      <th>B_GROUND</th>\n",
              "      <th>win_by</th>\n",
              "      <th>last_round</th>\n",
              "      <th>last_round_time</th>\n",
              "      <th>Format</th>\n",
              "      <th>Referee</th>\n",
              "      <th>date</th>\n",
              "      <th>location</th>\n",
              "      <th>Fight_type</th>\n",
              "      <th>Winner</th>\n",
              "    </tr>\n",
              "  </thead>\n",
              "  <tbody>\n",
              "    <tr>\n",
              "      <th>0</th>\n",
              "      <td>Henry Cejudo</td>\n",
              "      <td>Marlon Moraes</td>\n",
              "      <td>0</td>\n",
              "      <td>0</td>\n",
              "      <td>90 of 171</td>\n",
              "      <td>57 of 119</td>\n",
              "      <td>52%</td>\n",
              "      <td>47%</td>\n",
              "      <td>99 of 182</td>\n",
              "      <td>59 of 121</td>\n",
              "      <td>1 of 4</td>\n",
              "      <td>0 of 2</td>\n",
              "      <td>25%</td>\n",
              "      <td>0%</td>\n",
              "      <td>1</td>\n",
              "      <td>0</td>\n",
              "      <td>1</td>\n",
              "      <td>0</td>\n",
              "      <td>0</td>\n",
              "      <td>0</td>\n",
              "      <td>73 of 150</td>\n",
              "      <td>35 of 89</td>\n",
              "      <td>13 of 16</td>\n",
              "      <td>7 of 8</td>\n",
              "      <td>4 of 5</td>\n",
              "      <td>15 of 22</td>\n",
              "      <td>45 of 118</td>\n",
              "      <td>54 of 116</td>\n",
              "      <td>19 of 23</td>\n",
              "      <td>2 of 2</td>\n",
              "      <td>26 of 30</td>\n",
              "      <td>1 of 1</td>\n",
              "      <td>KO/TKO</td>\n",
              "      <td>3</td>\n",
              "      <td>4:51</td>\n",
              "      <td>5 Rnd (5-5-5-5-5)</td>\n",
              "      <td>Marc Goddard</td>\n",
              "      <td>June 08, 2019</td>\n",
              "      <td>Chicago, Illinois, USA</td>\n",
              "      <td>UFC Bantamweight Title Bout</td>\n",
              "      <td>Henry Cejudo</td>\n",
              "    </tr>\n",
              "    <tr>\n",
              "      <th>1</th>\n",
              "      <td>Valentina Shevchenko</td>\n",
              "      <td>Jessica Eye</td>\n",
              "      <td>1</td>\n",
              "      <td>0</td>\n",
              "      <td>8 of 11</td>\n",
              "      <td>2 of 12</td>\n",
              "      <td>72%</td>\n",
              "      <td>16%</td>\n",
              "      <td>37 of 40</td>\n",
              "      <td>42 of 52</td>\n",
              "      <td>2 of 2</td>\n",
              "      <td>0 of 0</td>\n",
              "      <td>100%</td>\n",
              "      <td>0%</td>\n",
              "      <td>1</td>\n",
              "      <td>0</td>\n",
              "      <td>3</td>\n",
              "      <td>0</td>\n",
              "      <td>0</td>\n",
              "      <td>0</td>\n",
              "      <td>4 of 5</td>\n",
              "      <td>0 of 7</td>\n",
              "      <td>4 of 6</td>\n",
              "      <td>0 of 2</td>\n",
              "      <td>0 of 0</td>\n",
              "      <td>2 of 3</td>\n",
              "      <td>5 of 8</td>\n",
              "      <td>2 of 12</td>\n",
              "      <td>2 of 2</td>\n",
              "      <td>0 of 0</td>\n",
              "      <td>1 of 1</td>\n",
              "      <td>0 of 0</td>\n",
              "      <td>KO/TKO</td>\n",
              "      <td>2</td>\n",
              "      <td>0:26</td>\n",
              "      <td>5 Rnd (5-5-5-5-5)</td>\n",
              "      <td>Robert Madrigal</td>\n",
              "      <td>June 08, 2019</td>\n",
              "      <td>Chicago, Illinois, USA</td>\n",
              "      <td>UFC Women's Flyweight Title Bout</td>\n",
              "      <td>Valentina Shevchenko</td>\n",
              "    </tr>\n",
              "    <tr>\n",
              "      <th>2</th>\n",
              "      <td>Tony Ferguson</td>\n",
              "      <td>Donald Cerrone</td>\n",
              "      <td>0</td>\n",
              "      <td>0</td>\n",
              "      <td>104 of 200</td>\n",
              "      <td>68 of 185</td>\n",
              "      <td>52%</td>\n",
              "      <td>36%</td>\n",
              "      <td>104 of 200</td>\n",
              "      <td>68 of 185</td>\n",
              "      <td>0 of 0</td>\n",
              "      <td>1 of 1</td>\n",
              "      <td>0%</td>\n",
              "      <td>100%</td>\n",
              "      <td>0</td>\n",
              "      <td>0</td>\n",
              "      <td>0</td>\n",
              "      <td>0</td>\n",
              "      <td>0</td>\n",
              "      <td>0</td>\n",
              "      <td>65 of 144</td>\n",
              "      <td>43 of 152</td>\n",
              "      <td>25 of 37</td>\n",
              "      <td>15 of 23</td>\n",
              "      <td>14 of 19</td>\n",
              "      <td>10 of 10</td>\n",
              "      <td>103 of 198</td>\n",
              "      <td>68 of 184</td>\n",
              "      <td>1 of 2</td>\n",
              "      <td>0 of 1</td>\n",
              "      <td>0 of 0</td>\n",
              "      <td>0 of 0</td>\n",
              "      <td>TKO - Doctor's Stoppage</td>\n",
              "      <td>2</td>\n",
              "      <td>5:00</td>\n",
              "      <td>3 Rnd (5-5-5)</td>\n",
              "      <td>Dan Miragliotta</td>\n",
              "      <td>June 08, 2019</td>\n",
              "      <td>Chicago, Illinois, USA</td>\n",
              "      <td>Lightweight Bout</td>\n",
              "      <td>Tony Ferguson</td>\n",
              "    </tr>\n",
              "    <tr>\n",
              "      <th>3</th>\n",
              "      <td>Jimmie Rivera</td>\n",
              "      <td>Petr Yan</td>\n",
              "      <td>0</td>\n",
              "      <td>2</td>\n",
              "      <td>73 of 192</td>\n",
              "      <td>56 of 189</td>\n",
              "      <td>38%</td>\n",
              "      <td>29%</td>\n",
              "      <td>76 of 195</td>\n",
              "      <td>58 of 192</td>\n",
              "      <td>0 of 3</td>\n",
              "      <td>1 of 3</td>\n",
              "      <td>0%</td>\n",
              "      <td>33%</td>\n",
              "      <td>0</td>\n",
              "      <td>0</td>\n",
              "      <td>0</td>\n",
              "      <td>1</td>\n",
              "      <td>0</td>\n",
              "      <td>0</td>\n",
              "      <td>42 of 145</td>\n",
              "      <td>40 of 166</td>\n",
              "      <td>15 of 24</td>\n",
              "      <td>13 of 19</td>\n",
              "      <td>16 of 23</td>\n",
              "      <td>3 of 4</td>\n",
              "      <td>60 of 173</td>\n",
              "      <td>42 of 167</td>\n",
              "      <td>9 of 15</td>\n",
              "      <td>10 of 12</td>\n",
              "      <td>4 of 4</td>\n",
              "      <td>4 of 10</td>\n",
              "      <td>Decision - Unanimous</td>\n",
              "      <td>3</td>\n",
              "      <td>5:00</td>\n",
              "      <td>3 Rnd (5-5-5)</td>\n",
              "      <td>Kevin MacDonald</td>\n",
              "      <td>June 08, 2019</td>\n",
              "      <td>Chicago, Illinois, USA</td>\n",
              "      <td>Bantamweight Bout</td>\n",
              "      <td>Petr Yan</td>\n",
              "    </tr>\n",
              "    <tr>\n",
              "      <th>4</th>\n",
              "      <td>Tai Tuivasa</td>\n",
              "      <td>Blagoy Ivanov</td>\n",
              "      <td>0</td>\n",
              "      <td>1</td>\n",
              "      <td>64 of 144</td>\n",
              "      <td>73 of 123</td>\n",
              "      <td>44%</td>\n",
              "      <td>59%</td>\n",
              "      <td>66 of 146</td>\n",
              "      <td>81 of 131</td>\n",
              "      <td>0 of 0</td>\n",
              "      <td>2 of 2</td>\n",
              "      <td>0%</td>\n",
              "      <td>100%</td>\n",
              "      <td>0</td>\n",
              "      <td>0</td>\n",
              "      <td>0</td>\n",
              "      <td>0</td>\n",
              "      <td>0</td>\n",
              "      <td>0</td>\n",
              "      <td>39 of 114</td>\n",
              "      <td>65 of 114</td>\n",
              "      <td>6 of 7</td>\n",
              "      <td>7 of 8</td>\n",
              "      <td>19 of 23</td>\n",
              "      <td>1 of 1</td>\n",
              "      <td>50 of 126</td>\n",
              "      <td>62 of 111</td>\n",
              "      <td>14 of 18</td>\n",
              "      <td>5 of 6</td>\n",
              "      <td>0 of 0</td>\n",
              "      <td>6 of 6</td>\n",
              "      <td>Decision - Unanimous</td>\n",
              "      <td>3</td>\n",
              "      <td>5:00</td>\n",
              "      <td>3 Rnd (5-5-5)</td>\n",
              "      <td>Dan Miragliotta</td>\n",
              "      <td>June 08, 2019</td>\n",
              "      <td>Chicago, Illinois, USA</td>\n",
              "      <td>Heavyweight Bout</td>\n",
              "      <td>Blagoy Ivanov</td>\n",
              "    </tr>\n",
              "  </tbody>\n",
              "</table>\n",
              "</div>"
            ],
            "text/plain": [
              "              R_fighter  ...                Winner\n",
              "0          Henry Cejudo  ...          Henry Cejudo\n",
              "1  Valentina Shevchenko  ...  Valentina Shevchenko\n",
              "2         Tony Ferguson  ...         Tony Ferguson\n",
              "3         Jimmie Rivera  ...              Petr Yan\n",
              "4           Tai Tuivasa  ...         Blagoy Ivanov\n",
              "\n",
              "[5 rows x 41 columns]"
            ]
          },
          "metadata": {
            "tags": []
          },
          "execution_count": 4
        }
      ]
    },
    {
      "cell_type": "code",
      "metadata": {
        "colab": {
          "base_uri": "https://localhost:8080/"
        },
        "id": "6qI6L4sse24X",
        "outputId": "1c461651-481c-4092-f656-8b8de842aa5d"
      },
      "source": [
        "raw_df.info()"
      ],
      "execution_count": null,
      "outputs": [
        {
          "output_type": "stream",
          "text": [
            "<class 'pandas.core.frame.DataFrame'>\n",
            "RangeIndex: 5144 entries, 0 to 5143\n",
            "Data columns (total 41 columns):\n",
            " #   Column           Non-Null Count  Dtype \n",
            "---  ------           --------------  ----- \n",
            " 0   R_fighter        5144 non-null   object\n",
            " 1   B_fighter        5144 non-null   object\n",
            " 2   R_KD             5144 non-null   int64 \n",
            " 3   B_KD             5144 non-null   int64 \n",
            " 4   R_SIG_STR.       5144 non-null   object\n",
            " 5   B_SIG_STR.       5144 non-null   object\n",
            " 6   R_SIG_STR_pct    5144 non-null   object\n",
            " 7   B_SIG_STR_pct    5144 non-null   object\n",
            " 8   R_TOTAL_STR.     5144 non-null   object\n",
            " 9   B_TOTAL_STR.     5144 non-null   object\n",
            " 10  R_TD             5144 non-null   object\n",
            " 11  B_TD             5144 non-null   object\n",
            " 12  R_TD_pct         5144 non-null   object\n",
            " 13  B_TD_pct         5144 non-null   object\n",
            " 14  R_SUB_ATT        5144 non-null   int64 \n",
            " 15  B_SUB_ATT        5144 non-null   int64 \n",
            " 16  R_PASS           5144 non-null   int64 \n",
            " 17  B_PASS           5144 non-null   int64 \n",
            " 18  R_REV            5144 non-null   int64 \n",
            " 19  B_REV            5144 non-null   int64 \n",
            " 20  R_HEAD           5144 non-null   object\n",
            " 21  B_HEAD           5144 non-null   object\n",
            " 22  R_BODY           5144 non-null   object\n",
            " 23  B_BODY           5144 non-null   object\n",
            " 24  R_LEG            5144 non-null   object\n",
            " 25  B_LEG            5144 non-null   object\n",
            " 26  R_DISTANCE       5144 non-null   object\n",
            " 27  B_DISTANCE       5144 non-null   object\n",
            " 28  R_CLINCH         5144 non-null   object\n",
            " 29  B_CLINCH         5144 non-null   object\n",
            " 30  R_GROUND         5144 non-null   object\n",
            " 31  B_GROUND         5144 non-null   object\n",
            " 32  win_by           5144 non-null   object\n",
            " 33  last_round       5144 non-null   int64 \n",
            " 34  last_round_time  5144 non-null   object\n",
            " 35  Format           5144 non-null   object\n",
            " 36  Referee          5121 non-null   object\n",
            " 37  date             5144 non-null   object\n",
            " 38  location         5144 non-null   object\n",
            " 39  Fight_type       5144 non-null   object\n",
            " 40  Winner           5061 non-null   object\n",
            "dtypes: int64(9), object(32)\n",
            "memory usage: 1.6+ MB\n"
          ],
          "name": "stdout"
        }
      ]
    },
    {
      "cell_type": "markdown",
      "metadata": {
        "id": "WhVbxzyOe9SP"
      },
      "source": [
        "Column definitions:\n",
        "\n",
        "*   **R_ and B_  prefix** bold text signifies red and blue corner fighter stats respectively\n",
        "*   **KD** is number of knockdowns\n",
        "*   **SIG_STR** is no. of significant strikes 'landed of attempted'\n",
        "*   **SIG_STR_pct** is significant strikes percentage\n",
        "*   **TOTAL_STR** is total strikes 'landed of attempted'\n",
        "*   **TD** is no. of takedowns\n",
        "*   **TD_pc**t is takedown percentages\n",
        "*   **SUB_ATT** is no. of submission attempts\n",
        "*   **PASS** is no. times the guard was passed?\n",
        "*   **REV** is the no. of moves from an inferior position into a superior position\n",
        "*   **HEAD** is no. of significant strinks to the head 'landed of attempted'\n",
        "*   **BODY** is no. of significant strikes to the body 'landed of attempted'\n",
        "*   **CLINCH** is no. of significant strikes in the clinch 'landed of attempted'\n",
        "*   **GROUND** is no. of significant strikes on the ground 'landed of attempted'\n",
        "*   **win_by** is method of win\n",
        "*   **last_round** is last round of the fight (ex. if it was a KO in 1st, then this will be 1)\n",
        "*   **last_round_time** is when the fight ended in the last round\n",
        "*   **Format ** is the format of the fight (3 rounds, 5 rounds etc.)\n",
        "*   **Referee** is the name of the Ref\n",
        "*   **date** is the date of the fight\n",
        "*   **location** is the location in which the event took place\n",
        "*   **Fight_type** is which weight class and whether it's a title bout or not\n",
        "*   **Winner** is the winner of the fight"
      ]
    },
    {
      "cell_type": "markdown",
      "metadata": {
        "id": "laHmwwOifTf4"
      },
      "source": [
        "## Dataset2: Fighters info"
      ]
    },
    {
      "cell_type": "code",
      "metadata": {
        "colab": {
          "base_uri": "https://localhost:8080/",
          "height": 197
        },
        "id": "As3hlLFHfaFL",
        "outputId": "a4be6632-7ea2-4509-be1d-3b853049700c"
      },
      "source": [
        "fighter_details = pd.read_csv('/content/drive/MyDrive/FTMLE | 2020.11 | Izu/Week_3/assignments/datasets/01-ufc-fight/fighters.csv')\n",
        "fighter_details.head()"
      ],
      "execution_count": null,
      "outputs": [
        {
          "output_type": "execute_result",
          "data": {
            "text/html": [
              "<div>\n",
              "<style scoped>\n",
              "    .dataframe tbody tr th:only-of-type {\n",
              "        vertical-align: middle;\n",
              "    }\n",
              "\n",
              "    .dataframe tbody tr th {\n",
              "        vertical-align: top;\n",
              "    }\n",
              "\n",
              "    .dataframe thead th {\n",
              "        text-align: right;\n",
              "    }\n",
              "</style>\n",
              "<table border=\"1\" class=\"dataframe\">\n",
              "  <thead>\n",
              "    <tr style=\"text-align: right;\">\n",
              "      <th></th>\n",
              "      <th>fighter_name</th>\n",
              "      <th>Height</th>\n",
              "      <th>Weight</th>\n",
              "      <th>Reach</th>\n",
              "      <th>Stance</th>\n",
              "      <th>DOB</th>\n",
              "    </tr>\n",
              "  </thead>\n",
              "  <tbody>\n",
              "    <tr>\n",
              "      <th>0</th>\n",
              "      <td>AJ Fonseca</td>\n",
              "      <td>5' 4\"</td>\n",
              "      <td>145 lbs.</td>\n",
              "      <td>NaN</td>\n",
              "      <td>NaN</td>\n",
              "      <td>NaN</td>\n",
              "    </tr>\n",
              "    <tr>\n",
              "      <th>1</th>\n",
              "      <td>AJ Matthews</td>\n",
              "      <td>5' 11\"</td>\n",
              "      <td>185 lbs.</td>\n",
              "      <td>NaN</td>\n",
              "      <td>NaN</td>\n",
              "      <td>NaN</td>\n",
              "    </tr>\n",
              "    <tr>\n",
              "      <th>2</th>\n",
              "      <td>AJ McKee</td>\n",
              "      <td>5' 10\"</td>\n",
              "      <td>145 lbs.</td>\n",
              "      <td>NaN</td>\n",
              "      <td>NaN</td>\n",
              "      <td>NaN</td>\n",
              "    </tr>\n",
              "    <tr>\n",
              "      <th>3</th>\n",
              "      <td>AJ Siscoe</td>\n",
              "      <td>5' 7\"</td>\n",
              "      <td>135 lbs.</td>\n",
              "      <td>NaN</td>\n",
              "      <td>NaN</td>\n",
              "      <td>NaN</td>\n",
              "    </tr>\n",
              "    <tr>\n",
              "      <th>4</th>\n",
              "      <td>Aalon Cruz</td>\n",
              "      <td>6' 0\"</td>\n",
              "      <td>145 lbs.</td>\n",
              "      <td>NaN</td>\n",
              "      <td>NaN</td>\n",
              "      <td>NaN</td>\n",
              "    </tr>\n",
              "  </tbody>\n",
              "</table>\n",
              "</div>"
            ],
            "text/plain": [
              "  fighter_name  Height    Weight Reach Stance  DOB\n",
              "0   AJ Fonseca   5' 4\"  145 lbs.   NaN    NaN  NaN\n",
              "1  AJ Matthews  5' 11\"  185 lbs.   NaN    NaN  NaN\n",
              "2     AJ McKee  5' 10\"  145 lbs.   NaN    NaN  NaN\n",
              "3    AJ Siscoe   5' 7\"  135 lbs.   NaN    NaN  NaN\n",
              "4   Aalon Cruz   6' 0\"  145 lbs.   NaN    NaN  NaN"
            ]
          },
          "metadata": {
            "tags": []
          },
          "execution_count": 6
        }
      ]
    },
    {
      "cell_type": "code",
      "metadata": {
        "colab": {
          "base_uri": "https://localhost:8080/"
        },
        "id": "hy4Fe69nfcgV",
        "outputId": "7f8ca1ab-e542-4fa3-d5b7-fe4631f5a5ca"
      },
      "source": [
        "fighter_details.info()"
      ],
      "execution_count": null,
      "outputs": [
        {
          "output_type": "stream",
          "text": [
            "<class 'pandas.core.frame.DataFrame'>\n",
            "RangeIndex: 3313 entries, 0 to 3312\n",
            "Data columns (total 6 columns):\n",
            " #   Column        Non-Null Count  Dtype \n",
            "---  ------        --------------  ----- \n",
            " 0   fighter_name  3313 non-null   object\n",
            " 1   Height        3050 non-null   object\n",
            " 2   Weight        3238 non-null   object\n",
            " 3   Reach         1569 non-null   object\n",
            " 4   Stance        2439 non-null   object\n",
            " 5   DOB           2573 non-null   object\n",
            "dtypes: object(6)\n",
            "memory usage: 155.4+ KB\n"
          ],
          "name": "stdout"
        }
      ]
    },
    {
      "cell_type": "markdown",
      "metadata": {
        "id": "L_RuSYbetOv0"
      },
      "source": [
        "# **Cleansing data**\n"
      ]
    },
    {
      "cell_type": "markdown",
      "metadata": {
        "id": "L4AgRGJo-86g"
      },
      "source": [
        "For match dataset\n",
        "* Check missing values\n",
        "* Separate ***landed of attempted*** to separate columns\n",
        "* Extract ***Fight_type*** to get***weight_class***\n",
        "* Find ***Number_of_rounds*** from ***Format***\n",
        "* Convert percentages to fractions\n",
        "* Join fighter datasets to get fighter ***height, reach, weight, age***\n",
        "\n"
      ]
    },
    {
      "cell_type": "markdown",
      "metadata": {
        "id": "m-sLeQMueT4W"
      },
      "source": [
        "For fighters dataset\n",
        "* Convert Height to cms, Weight to kg\n",
        "* Convert Reach and Stance to numerical values\n",
        "* Extract DOB to get year --> get age of fighter"
      ]
    },
    {
      "cell_type": "markdown",
      "metadata": {
        "id": "HmSZK0PyfkwX"
      },
      "source": [
        "## Dataset1: Total fights"
      ]
    },
    {
      "cell_type": "markdown",
      "metadata": {
        "id": "LjPhmrV1ClRq"
      },
      "source": [
        "### Check missing values"
      ]
    },
    {
      "cell_type": "markdown",
      "metadata": {
        "id": "gt81vNUheZBU"
      },
      "source": [
        "Match dataset"
      ]
    },
    {
      "cell_type": "code",
      "metadata": {
        "colab": {
          "base_uri": "https://localhost:8080/"
        },
        "id": "lcGj2yZGM8vp",
        "outputId": "06b82e1f-bf0e-4be6-9ac3-f81d948d30ac"
      },
      "source": [
        "# How many missing values are there in the all columns?\n",
        "df_clean = raw_df.copy()\n",
        "for column in raw_df.columns:\n",
        "    if raw_df[column].isnull().sum() != 0:\n",
        "        print(f\"NaN values in {column} = {raw_df[column].isnull().sum()}\")"
      ],
      "execution_count": null,
      "outputs": [
        {
          "output_type": "stream",
          "text": [
            "NaN values in Referee = 23\n",
            "NaN values in Winner = 83\n"
          ],
          "name": "stdout"
        }
      ]
    },
    {
      "cell_type": "markdown",
      "metadata": {
        "id": "-w8ft1W1BjPz"
      },
      "source": [
        "* Referee is not considered in this analysis and can therefore be dropped\n",
        "* Check the win method to to see why ther are missing values in winner"
      ]
    },
    {
      "cell_type": "code",
      "metadata": {
        "colab": {
          "base_uri": "https://localhost:8080/"
        },
        "id": "QcQWhke4AYDm",
        "outputId": "f944fe31-55c7-4560-dd72-de7422ff7ef7"
      },
      "source": [
        "raw_df[raw_df['Winner'].isnull()]['win_by'].value_counts()"
      ],
      "execution_count": null,
      "outputs": [
        {
          "output_type": "execute_result",
          "data": {
            "text/plain": [
              "Overturned              35\n",
              "Decision - Majority     20\n",
              "Could Not Continue      13\n",
              "Decision - Split         8\n",
              "Decision - Unanimous     5\n",
              "Other                    2\n",
              "Name: win_by, dtype: int64"
            ]
          },
          "metadata": {
            "tags": []
          },
          "execution_count": 9
        }
      ]
    },
    {
      "cell_type": "markdown",
      "metadata": {
        "id": "TaHlSuBwAzhR"
      },
      "source": [
        "* *Overturned:* means due to drug test being positive \n",
        "* *Could not Continue:* means there was an illegal blow which was not enough to be disqualified but the fighter could not continue.\n",
        "* The rest are different forms of draw\n",
        "\n",
        "=> Replacing all of these with draw"
      ]
    },
    {
      "cell_type": "code",
      "metadata": {
        "colab": {
          "base_uri": "https://localhost:8080/"
        },
        "id": "oLeWbXjSMP4I",
        "outputId": "1ee7865f-3fca-4ab5-c2d4-002f729cb437"
      },
      "source": [
        "df_clean['Winner'] = raw_df['Winner'].fillna('Draw')\n",
        "df_clean['Winner'].isna().sum()"
      ],
      "execution_count": null,
      "outputs": [
        {
          "output_type": "execute_result",
          "data": {
            "text/plain": [
              "0"
            ]
          },
          "metadata": {
            "tags": []
          },
          "execution_count": 10
        }
      ]
    },
    {
      "cell_type": "code",
      "metadata": {
        "id": "WM8LPeo5MBxs"
      },
      "source": [
        "df_clean['win_by_Decision'] = (raw_df['win_by'] == 'Decision - Unanimous')|(raw_df['win_by'] == 'Decision - Split')| (raw_df['win_by'] == 'Decision - Majority')\n",
        "df_clean['win_by_KO'] = (raw_df['win_by'] == 'KO/TKO')|(raw_df['win_by'] == \"TKO - Doctor's Stoppage\")\n",
        "df_clean['win_by_Submission'] = raw_df['win_by'] == 'Submission'\n",
        "df_clean['win_by_Other'] = (raw_df['win_by'] == 'DQ')|(raw_df['win_by'] == 'Overturned')|(raw_df['win_by'] == 'Could Not Continue')|(raw_df['win_by'] == 'Other')"
      ],
      "execution_count": null,
      "outputs": []
    },
    {
      "cell_type": "markdown",
      "metadata": {
        "id": "Q9Anut9AYJ4P"
      },
      "source": [
        "### Separate landed of attempted to separate columns"
      ]
    },
    {
      "cell_type": "code",
      "metadata": {
        "id": "7zA7r0spEjyG"
      },
      "source": [
        "columns = ['R_SIG_STR.', 'B_SIG_STR.', 'R_TOTAL_STR.', 'B_TOTAL_STR.',\n",
        "       'R_TD', 'B_TD', 'R_HEAD', 'B_HEAD', 'R_BODY','B_BODY', 'R_LEG', 'B_LEG', \n",
        "        'R_DISTANCE', 'B_DISTANCE', 'R_CLINCH','B_CLINCH', 'R_GROUND', 'B_GROUND']\n",
        "        \n",
        "attempt_suffix = '_att'\n",
        "landed_suffix = '_landed'\n",
        "\n",
        "for column in columns:\n",
        "    df_clean[column+attempt_suffix] = raw_df[column].apply(lambda X: int(X.split('of')[1]))\n",
        "    df_clean[column+landed_suffix] = raw_df[column].apply(lambda X: int(X.split('of')[0]))\n",
        "    \n",
        "df_clean.drop(columns, axis=1, inplace=True)\n"
      ],
      "execution_count": null,
      "outputs": []
    },
    {
      "cell_type": "markdown",
      "metadata": {
        "id": "PbvXH61MHfLd"
      },
      "source": [
        "### Extract Fight_type to get weight_class"
      ]
    },
    {
      "cell_type": "code",
      "metadata": {
        "id": "OSAFpUJ7H107"
      },
      "source": [
        "raw_df['Fight_type'].unique()"
      ],
      "execution_count": null,
      "outputs": []
    },
    {
      "cell_type": "code",
      "metadata": {
        "id": "98kaZ2YjMycm"
      },
      "source": [
        "weight_classes = ['Women\\'s Strawweight', 'Women\\'s Bantamweight', \n",
        "                  'Women\\'s Featherweight', 'Women\\'s Flyweight', 'Lightweight', \n",
        "                  'Welterweight', 'Middleweight','Light Heavyweight', \n",
        "                  'Heavyweight', 'Featherweight','Bantamweight', 'Flyweight', 'Open Weight']"
      ],
      "execution_count": null,
      "outputs": []
    },
    {
      "cell_type": "code",
      "metadata": {
        "id": "9RHzpDM8LJA2"
      },
      "source": [
        "def make_weight_class(X):\n",
        "    for weight_class in weight_classes:\n",
        "        if weight_class in X:\n",
        "            return weight_class\n",
        "    if X == 'Catch Weight Bout' or 'Catchweight Bout':\n",
        "        return 'Catch Weight'\n",
        "    else:\n",
        "        return 'Open Weight'"
      ],
      "execution_count": null,
      "outputs": []
    },
    {
      "cell_type": "code",
      "metadata": {
        "id": "A9YaLcx6JYIu"
      },
      "source": [
        "df_clean['weight_class'] = raw_df['Fight_type'].apply(make_weight_class)"
      ],
      "execution_count": null,
      "outputs": []
    },
    {
      "cell_type": "code",
      "metadata": {
        "colab": {
          "base_uri": "https://localhost:8080/"
        },
        "id": "V0g_v6eYNAiy",
        "outputId": "399e1aba-776e-40f5-d2a3-1d27c2e3f87d"
      },
      "source": [
        "df_clean['weight_class'].value_counts()"
      ],
      "execution_count": null,
      "outputs": [
        {
          "output_type": "execute_result",
          "data": {
            "text/plain": [
              "Lightweight              989\n",
              "Welterweight             969\n",
              "Middleweight             725\n",
              "Heavyweight              507\n",
              "Light Heavyweight        502\n",
              "Featherweight            442\n",
              "Bantamweight             379\n",
              "Flyweight                187\n",
              "Women's Strawweight      143\n",
              "Women's Bantamweight     111\n",
              "Open Weight               92\n",
              "Women's Flyweight         50\n",
              "Catch Weight              38\n",
              "Women's Featherweight     10\n",
              "Name: weight_class, dtype: int64"
            ]
          },
          "metadata": {
            "tags": []
          },
          "execution_count": 17
        }
      ]
    },
    {
      "cell_type": "markdown",
      "metadata": {
        "id": "FM9Mab-VNWBs"
      },
      "source": [
        "### Find Number of rounds from Format"
      ]
    },
    {
      "cell_type": "code",
      "metadata": {
        "colab": {
          "base_uri": "https://localhost:8080/"
        },
        "id": "pvoxJBaGPDOD",
        "outputId": "ec787bc6-1ab6-415b-9162-e2196775fcca"
      },
      "source": [
        "# A UFC fight lasts either 3 or 5 rounds. Each round is 5 minutes long\n",
        "raw_df['Format'].value_counts()"
      ],
      "execution_count": null,
      "outputs": [
        {
          "output_type": "execute_result",
          "data": {
            "text/plain": [
              "3 Rnd (5-5-5)           4502\n",
              "5 Rnd (5-5-5-5-5)        423\n",
              "1 Rnd + OT (12-3)         79\n",
              "No Time Limit             37\n",
              "3 Rnd + OT (5-5-5-5)      22\n",
              "1 Rnd + 2OT (15-3-3)      20\n",
              "1 Rnd (20)                20\n",
              "2 Rnd (5-5)               11\n",
              "1 Rnd (15)                 8\n",
              "1 Rnd (10)                 6\n",
              "1 Rnd (12)                 4\n",
              "1 Rnd + OT (30-5)          3\n",
              "1 Rnd (18)                 2\n",
              "1 Rnd + OT (15-3)          2\n",
              "1 Rnd + OT (27-3)          1\n",
              "1 Rnd + OT (31-5)          1\n",
              "1 Rnd + OT (30-3)          1\n",
              "1 Rnd + 2OT (24-3-3)       1\n",
              "1 Rnd (30)                 1\n",
              "Name: Format, dtype: int64"
            ]
          },
          "metadata": {
            "tags": []
          },
          "execution_count": 18
        }
      ]
    },
    {
      "cell_type": "code",
      "metadata": {
        "id": "UHo3U-S2PCJN"
      },
      "source": [
        "def get_no_of_rounds(X):\n",
        "    if X == 'No Time Limit':\n",
        "        return 1\n",
        "    else:\n",
        "        return len(X.split('(')[1].replace(')', '').split('-'))\n",
        "\n",
        "df_clean['No_of_rounds'] = raw_df['Format'].apply(get_no_of_rounds)\n"
      ],
      "execution_count": null,
      "outputs": []
    },
    {
      "cell_type": "code",
      "metadata": {
        "colab": {
          "base_uri": "https://localhost:8080/",
          "height": 254
        },
        "id": "sXt0JTGESwwn",
        "outputId": "c873d394-f5b2-4f91-e02b-f167bc4481d5"
      },
      "source": [
        "df_clean[['No_of_rounds','Format','last_round']].T"
      ],
      "execution_count": null,
      "outputs": [
        {
          "output_type": "execute_result",
          "data": {
            "text/html": [
              "<div>\n",
              "<style scoped>\n",
              "    .dataframe tbody tr th:only-of-type {\n",
              "        vertical-align: middle;\n",
              "    }\n",
              "\n",
              "    .dataframe tbody tr th {\n",
              "        vertical-align: top;\n",
              "    }\n",
              "\n",
              "    .dataframe thead th {\n",
              "        text-align: right;\n",
              "    }\n",
              "</style>\n",
              "<table border=\"1\" class=\"dataframe\">\n",
              "  <thead>\n",
              "    <tr style=\"text-align: right;\">\n",
              "      <th></th>\n",
              "      <th>0</th>\n",
              "      <th>1</th>\n",
              "      <th>2</th>\n",
              "      <th>3</th>\n",
              "      <th>4</th>\n",
              "      <th>5</th>\n",
              "      <th>6</th>\n",
              "      <th>7</th>\n",
              "      <th>8</th>\n",
              "      <th>9</th>\n",
              "      <th>10</th>\n",
              "      <th>11</th>\n",
              "      <th>12</th>\n",
              "      <th>13</th>\n",
              "      <th>14</th>\n",
              "      <th>15</th>\n",
              "      <th>16</th>\n",
              "      <th>17</th>\n",
              "      <th>18</th>\n",
              "      <th>19</th>\n",
              "      <th>20</th>\n",
              "      <th>21</th>\n",
              "      <th>22</th>\n",
              "      <th>23</th>\n",
              "      <th>24</th>\n",
              "      <th>25</th>\n",
              "      <th>26</th>\n",
              "      <th>27</th>\n",
              "      <th>28</th>\n",
              "      <th>29</th>\n",
              "      <th>30</th>\n",
              "      <th>31</th>\n",
              "      <th>32</th>\n",
              "      <th>33</th>\n",
              "      <th>34</th>\n",
              "      <th>35</th>\n",
              "      <th>36</th>\n",
              "      <th>37</th>\n",
              "      <th>38</th>\n",
              "      <th>39</th>\n",
              "      <th>...</th>\n",
              "      <th>5104</th>\n",
              "      <th>5105</th>\n",
              "      <th>5106</th>\n",
              "      <th>5107</th>\n",
              "      <th>5108</th>\n",
              "      <th>5109</th>\n",
              "      <th>5110</th>\n",
              "      <th>5111</th>\n",
              "      <th>5112</th>\n",
              "      <th>5113</th>\n",
              "      <th>5114</th>\n",
              "      <th>5115</th>\n",
              "      <th>5116</th>\n",
              "      <th>5117</th>\n",
              "      <th>5118</th>\n",
              "      <th>5119</th>\n",
              "      <th>5120</th>\n",
              "      <th>5121</th>\n",
              "      <th>5122</th>\n",
              "      <th>5123</th>\n",
              "      <th>5124</th>\n",
              "      <th>5125</th>\n",
              "      <th>5126</th>\n",
              "      <th>5127</th>\n",
              "      <th>5128</th>\n",
              "      <th>5129</th>\n",
              "      <th>5130</th>\n",
              "      <th>5131</th>\n",
              "      <th>5132</th>\n",
              "      <th>5133</th>\n",
              "      <th>5134</th>\n",
              "      <th>5135</th>\n",
              "      <th>5136</th>\n",
              "      <th>5137</th>\n",
              "      <th>5138</th>\n",
              "      <th>5139</th>\n",
              "      <th>5140</th>\n",
              "      <th>5141</th>\n",
              "      <th>5142</th>\n",
              "      <th>5143</th>\n",
              "    </tr>\n",
              "  </thead>\n",
              "  <tbody>\n",
              "    <tr>\n",
              "      <th>No_of_rounds</th>\n",
              "      <td>5</td>\n",
              "      <td>5</td>\n",
              "      <td>3</td>\n",
              "      <td>3</td>\n",
              "      <td>3</td>\n",
              "      <td>3</td>\n",
              "      <td>3</td>\n",
              "      <td>3</td>\n",
              "      <td>3</td>\n",
              "      <td>3</td>\n",
              "      <td>3</td>\n",
              "      <td>3</td>\n",
              "      <td>3</td>\n",
              "      <td>5</td>\n",
              "      <td>3</td>\n",
              "      <td>3</td>\n",
              "      <td>3</td>\n",
              "      <td>3</td>\n",
              "      <td>3</td>\n",
              "      <td>3</td>\n",
              "      <td>3</td>\n",
              "      <td>3</td>\n",
              "      <td>3</td>\n",
              "      <td>3</td>\n",
              "      <td>3</td>\n",
              "      <td>5</td>\n",
              "      <td>3</td>\n",
              "      <td>3</td>\n",
              "      <td>3</td>\n",
              "      <td>3</td>\n",
              "      <td>3</td>\n",
              "      <td>3</td>\n",
              "      <td>3</td>\n",
              "      <td>3</td>\n",
              "      <td>3</td>\n",
              "      <td>3</td>\n",
              "      <td>3</td>\n",
              "      <td>3</td>\n",
              "      <td>5</td>\n",
              "      <td>3</td>\n",
              "      <td>...</td>\n",
              "      <td>1</td>\n",
              "      <td>1</td>\n",
              "      <td>1</td>\n",
              "      <td>1</td>\n",
              "      <td>1</td>\n",
              "      <td>1</td>\n",
              "      <td>1</td>\n",
              "      <td>1</td>\n",
              "      <td>1</td>\n",
              "      <td>1</td>\n",
              "      <td>1</td>\n",
              "      <td>1</td>\n",
              "      <td>1</td>\n",
              "      <td>1</td>\n",
              "      <td>1</td>\n",
              "      <td>1</td>\n",
              "      <td>1</td>\n",
              "      <td>1</td>\n",
              "      <td>1</td>\n",
              "      <td>1</td>\n",
              "      <td>1</td>\n",
              "      <td>1</td>\n",
              "      <td>1</td>\n",
              "      <td>1</td>\n",
              "      <td>1</td>\n",
              "      <td>1</td>\n",
              "      <td>1</td>\n",
              "      <td>1</td>\n",
              "      <td>1</td>\n",
              "      <td>1</td>\n",
              "      <td>1</td>\n",
              "      <td>1</td>\n",
              "      <td>1</td>\n",
              "      <td>1</td>\n",
              "      <td>1</td>\n",
              "      <td>1</td>\n",
              "      <td>1</td>\n",
              "      <td>1</td>\n",
              "      <td>1</td>\n",
              "      <td>1</td>\n",
              "    </tr>\n",
              "    <tr>\n",
              "      <th>Format</th>\n",
              "      <td>5 Rnd (5-5-5-5-5)</td>\n",
              "      <td>5 Rnd (5-5-5-5-5)</td>\n",
              "      <td>3 Rnd (5-5-5)</td>\n",
              "      <td>3 Rnd (5-5-5)</td>\n",
              "      <td>3 Rnd (5-5-5)</td>\n",
              "      <td>3 Rnd (5-5-5)</td>\n",
              "      <td>3 Rnd (5-5-5)</td>\n",
              "      <td>3 Rnd (5-5-5)</td>\n",
              "      <td>3 Rnd (5-5-5)</td>\n",
              "      <td>3 Rnd (5-5-5)</td>\n",
              "      <td>3 Rnd (5-5-5)</td>\n",
              "      <td>3 Rnd (5-5-5)</td>\n",
              "      <td>3 Rnd (5-5-5)</td>\n",
              "      <td>5 Rnd (5-5-5-5-5)</td>\n",
              "      <td>3 Rnd (5-5-5)</td>\n",
              "      <td>3 Rnd (5-5-5)</td>\n",
              "      <td>3 Rnd (5-5-5)</td>\n",
              "      <td>3 Rnd (5-5-5)</td>\n",
              "      <td>3 Rnd (5-5-5)</td>\n",
              "      <td>3 Rnd (5-5-5)</td>\n",
              "      <td>3 Rnd (5-5-5)</td>\n",
              "      <td>3 Rnd (5-5-5)</td>\n",
              "      <td>3 Rnd (5-5-5)</td>\n",
              "      <td>3 Rnd (5-5-5)</td>\n",
              "      <td>3 Rnd (5-5-5)</td>\n",
              "      <td>5 Rnd (5-5-5-5-5)</td>\n",
              "      <td>3 Rnd (5-5-5)</td>\n",
              "      <td>3 Rnd (5-5-5)</td>\n",
              "      <td>3 Rnd (5-5-5)</td>\n",
              "      <td>3 Rnd (5-5-5)</td>\n",
              "      <td>3 Rnd (5-5-5)</td>\n",
              "      <td>3 Rnd (5-5-5)</td>\n",
              "      <td>3 Rnd (5-5-5)</td>\n",
              "      <td>3 Rnd (5-5-5)</td>\n",
              "      <td>3 Rnd (5-5-5)</td>\n",
              "      <td>3 Rnd (5-5-5)</td>\n",
              "      <td>3 Rnd (5-5-5)</td>\n",
              "      <td>3 Rnd (5-5-5)</td>\n",
              "      <td>5 Rnd (5-5-5-5-5)</td>\n",
              "      <td>3 Rnd (5-5-5)</td>\n",
              "      <td>...</td>\n",
              "      <td>1 Rnd (20)</td>\n",
              "      <td>1 Rnd (20)</td>\n",
              "      <td>1 Rnd (20)</td>\n",
              "      <td>No Time Limit</td>\n",
              "      <td>No Time Limit</td>\n",
              "      <td>No Time Limit</td>\n",
              "      <td>No Time Limit</td>\n",
              "      <td>No Time Limit</td>\n",
              "      <td>No Time Limit</td>\n",
              "      <td>No Time Limit</td>\n",
              "      <td>No Time Limit</td>\n",
              "      <td>No Time Limit</td>\n",
              "      <td>No Time Limit</td>\n",
              "      <td>No Time Limit</td>\n",
              "      <td>No Time Limit</td>\n",
              "      <td>No Time Limit</td>\n",
              "      <td>No Time Limit</td>\n",
              "      <td>No Time Limit</td>\n",
              "      <td>No Time Limit</td>\n",
              "      <td>No Time Limit</td>\n",
              "      <td>No Time Limit</td>\n",
              "      <td>No Time Limit</td>\n",
              "      <td>No Time Limit</td>\n",
              "      <td>No Time Limit</td>\n",
              "      <td>No Time Limit</td>\n",
              "      <td>No Time Limit</td>\n",
              "      <td>No Time Limit</td>\n",
              "      <td>No Time Limit</td>\n",
              "      <td>No Time Limit</td>\n",
              "      <td>No Time Limit</td>\n",
              "      <td>No Time Limit</td>\n",
              "      <td>No Time Limit</td>\n",
              "      <td>No Time Limit</td>\n",
              "      <td>No Time Limit</td>\n",
              "      <td>No Time Limit</td>\n",
              "      <td>No Time Limit</td>\n",
              "      <td>No Time Limit</td>\n",
              "      <td>No Time Limit</td>\n",
              "      <td>No Time Limit</td>\n",
              "      <td>No Time Limit</td>\n",
              "    </tr>\n",
              "    <tr>\n",
              "      <th>last_round</th>\n",
              "      <td>3</td>\n",
              "      <td>2</td>\n",
              "      <td>2</td>\n",
              "      <td>3</td>\n",
              "      <td>3</td>\n",
              "      <td>3</td>\n",
              "      <td>3</td>\n",
              "      <td>3</td>\n",
              "      <td>1</td>\n",
              "      <td>3</td>\n",
              "      <td>3</td>\n",
              "      <td>2</td>\n",
              "      <td>3</td>\n",
              "      <td>4</td>\n",
              "      <td>1</td>\n",
              "      <td>2</td>\n",
              "      <td>3</td>\n",
              "      <td>3</td>\n",
              "      <td>3</td>\n",
              "      <td>3</td>\n",
              "      <td>1</td>\n",
              "      <td>2</td>\n",
              "      <td>2</td>\n",
              "      <td>3</td>\n",
              "      <td>2</td>\n",
              "      <td>4</td>\n",
              "      <td>3</td>\n",
              "      <td>1</td>\n",
              "      <td>1</td>\n",
              "      <td>2</td>\n",
              "      <td>3</td>\n",
              "      <td>3</td>\n",
              "      <td>3</td>\n",
              "      <td>1</td>\n",
              "      <td>2</td>\n",
              "      <td>1</td>\n",
              "      <td>3</td>\n",
              "      <td>3</td>\n",
              "      <td>2</td>\n",
              "      <td>1</td>\n",
              "      <td>...</td>\n",
              "      <td>1</td>\n",
              "      <td>1</td>\n",
              "      <td>1</td>\n",
              "      <td>1</td>\n",
              "      <td>1</td>\n",
              "      <td>1</td>\n",
              "      <td>1</td>\n",
              "      <td>1</td>\n",
              "      <td>1</td>\n",
              "      <td>1</td>\n",
              "      <td>1</td>\n",
              "      <td>1</td>\n",
              "      <td>1</td>\n",
              "      <td>1</td>\n",
              "      <td>1</td>\n",
              "      <td>1</td>\n",
              "      <td>1</td>\n",
              "      <td>1</td>\n",
              "      <td>1</td>\n",
              "      <td>1</td>\n",
              "      <td>1</td>\n",
              "      <td>1</td>\n",
              "      <td>1</td>\n",
              "      <td>1</td>\n",
              "      <td>1</td>\n",
              "      <td>1</td>\n",
              "      <td>1</td>\n",
              "      <td>1</td>\n",
              "      <td>1</td>\n",
              "      <td>1</td>\n",
              "      <td>1</td>\n",
              "      <td>1</td>\n",
              "      <td>1</td>\n",
              "      <td>1</td>\n",
              "      <td>1</td>\n",
              "      <td>1</td>\n",
              "      <td>1</td>\n",
              "      <td>1</td>\n",
              "      <td>1</td>\n",
              "      <td>1</td>\n",
              "    </tr>\n",
              "  </tbody>\n",
              "</table>\n",
              "<p>3 rows × 5144 columns</p>\n",
              "</div>"
            ],
            "text/plain": [
              "                           0     ...           5143\n",
              "No_of_rounds                  5  ...              1\n",
              "Format        5 Rnd (5-5-5-5-5)  ...  No Time Limit\n",
              "last_round                    3  ...              1\n",
              "\n",
              "[3 rows x 5144 columns]"
            ]
          },
          "metadata": {
            "tags": []
          },
          "execution_count": 20
        }
      ]
    },
    {
      "cell_type": "markdown",
      "metadata": {
        "id": "5yvSaB3MYsXy"
      },
      "source": [
        "### Change to Datetime data"
      ]
    },
    {
      "cell_type": "code",
      "metadata": {
        "colab": {
          "base_uri": "https://localhost:8080/"
        },
        "id": "AJB4gFFRYu2O",
        "outputId": "b5be751c-d8c7-403b-a4a5-e1e3e7e2324d"
      },
      "source": [
        "df_clean['date'] = pd.to_datetime(raw_df['date'])\n",
        "df_clean['date'].sample(5)"
      ],
      "execution_count": null,
      "outputs": [
        {
          "output_type": "execute_result",
          "data": {
            "text/plain": [
              "1700   2015-11-21\n",
              "4567   2006-07-08\n",
              "4519   2006-10-14\n",
              "2844   2013-06-08\n",
              "1747   2015-10-24\n",
              "Name: date, dtype: datetime64[ns]"
            ]
          },
          "metadata": {
            "tags": []
          },
          "execution_count": 21
        }
      ]
    },
    {
      "cell_type": "markdown",
      "metadata": {
        "id": "vcUzjf6VYnmt"
      },
      "source": [
        "### Convert percentages to fractions"
      ]
    },
    {
      "cell_type": "code",
      "metadata": {
        "id": "JyezZBQSV87R"
      },
      "source": [
        "pct_columns = ['R_SIG_STR_pct','B_SIG_STR_pct', 'R_TD_pct', 'B_TD_pct']\n",
        "\n",
        "def pct_to_frac(X):\n",
        "    if X != '---':\n",
        "        return float(X.replace('%', ''))/100\n",
        "    else:\n",
        "        # if '---' means it's taking pct of `0 of 0`. \n",
        "        return 0\n",
        "\n",
        "for column in pct_columns:\n",
        "    df_clean[column] = raw_df[column].apply(pct_to_frac)"
      ],
      "execution_count": null,
      "outputs": []
    },
    {
      "cell_type": "code",
      "metadata": {
        "id": "U-iNY1TOWKuJ"
      },
      "source": [
        "df_clean.info()"
      ],
      "execution_count": null,
      "outputs": []
    },
    {
      "cell_type": "markdown",
      "metadata": {
        "id": "DIrUhOoXgE0Y"
      },
      "source": [
        "## Dataset2: Fighters"
      ]
    },
    {
      "cell_type": "code",
      "metadata": {
        "id": "V6NjtlfxiDhK"
      },
      "source": [
        "fighter_clean  = fighter_details.copy()"
      ],
      "execution_count": null,
      "outputs": []
    },
    {
      "cell_type": "code",
      "metadata": {
        "colab": {
          "base_uri": "https://localhost:8080/"
        },
        "id": "K9H3dweJgJ1f",
        "outputId": "95d8548d-d75e-4c57-b695-cc99e66e53ad"
      },
      "source": [
        "for col in fighter_details.columns:\n",
        "    print(f\"Number of NaN in {col} : {fighter_details[col].isnull().sum()}\")"
      ],
      "execution_count": null,
      "outputs": [
        {
          "output_type": "stream",
          "text": [
            "Number of NaN in fighter_name : 0\n",
            "Number of NaN in Height : 263\n",
            "Number of NaN in Weight : 75\n",
            "Number of NaN in Reach : 1744\n",
            "Number of NaN in Stance : 874\n",
            "Number of NaN in DOB : 740\n"
          ],
          "name": "stdout"
        }
      ]
    },
    {
      "cell_type": "markdown",
      "metadata": {
        "id": "lRtT42S6h7PF"
      },
      "source": [
        "### Convert to Height, Reach to cms"
      ]
    },
    {
      "cell_type": "code",
      "metadata": {
        "id": "bpMyj2aGgQ6n"
      },
      "source": [
        "def convert_to_cms(X):\n",
        "    if X is np.NaN:\n",
        "        return X\n",
        "    elif len(X.split(\"'\")) == 2:\n",
        "        feet = float(X.split(\"'\")[0])\n",
        "        inches = int(X.split(\"'\")[1].replace(' ', '').replace('\"',''))\n",
        "        return (feet * 30.48) + (inches * 2.54)\n",
        "    else:\n",
        "        return float(X.replace('\"','')) * 2.54"
      ],
      "execution_count": null,
      "outputs": []
    },
    {
      "cell_type": "code",
      "metadata": {
        "id": "t2JXqcDwgUF0"
      },
      "source": [
        "fighter_clean['Height_cms'] = fighter_details['Height'].apply(convert_to_cms)\n",
        "fighter_clean['Reach_cms'] = fighter_details['Reach'].apply(convert_to_cms)"
      ],
      "execution_count": null,
      "outputs": []
    },
    {
      "cell_type": "markdown",
      "metadata": {
        "id": "SrCt4fyeiFhb"
      },
      "source": [
        "### Convert Weight to float(lbs)"
      ]
    },
    {
      "cell_type": "code",
      "metadata": {
        "id": "ogXbMtpsgZ-Q"
      },
      "source": [
        "fighter_clean['Weight_lbs'] = fighter_details['Weight'].apply(lambda X: float(X.replace(' lbs.', '')) if X is not np.NaN else X)"
      ],
      "execution_count": null,
      "outputs": []
    },
    {
      "cell_type": "markdown",
      "metadata": {
        "id": "zyloO2YbiORu"
      },
      "source": [
        "### Change datetime DOB"
      ]
    },
    {
      "cell_type": "code",
      "metadata": {
        "id": "YQL_NIy6hTDa"
      },
      "source": [
        "fighter_clean['DOB'] = pd.to_datetime(fighter_details['DOB'] )"
      ],
      "execution_count": null,
      "outputs": []
    },
    {
      "cell_type": "code",
      "metadata": {
        "id": "qBj8s5XBgkuq"
      },
      "source": [
        "fighter_clean.drop(['Height', 'Weight', 'Reach'], axis=1, inplace=True)"
      ],
      "execution_count": null,
      "outputs": []
    },
    {
      "cell_type": "code",
      "metadata": {
        "colab": {
          "base_uri": "https://localhost:8080/"
        },
        "id": "4RFY8tmhhcJT",
        "outputId": "814cdf69-7b7e-4c65-db02-bb30a19f8967"
      },
      "source": [
        "fighter_clean.info()"
      ],
      "execution_count": null,
      "outputs": [
        {
          "output_type": "stream",
          "text": [
            "<class 'pandas.core.frame.DataFrame'>\n",
            "RangeIndex: 3313 entries, 0 to 3312\n",
            "Data columns (total 6 columns):\n",
            " #   Column        Non-Null Count  Dtype         \n",
            "---  ------        --------------  -----         \n",
            " 0   fighter_name  3313 non-null   object        \n",
            " 1   Stance        2439 non-null   object        \n",
            " 2   DOB           2573 non-null   datetime64[ns]\n",
            " 3   Height_cms    3050 non-null   float64       \n",
            " 4   Reach_cms     1569 non-null   float64       \n",
            " 5   Weight_lbs    3238 non-null   float64       \n",
            "dtypes: datetime64[ns](1), float64(3), object(2)\n",
            "memory usage: 155.4+ KB\n"
          ],
          "name": "stdout"
        }
      ]
    },
    {
      "cell_type": "markdown",
      "metadata": {
        "id": "rTSjsrapic-Y"
      },
      "source": [
        "## Merge fighters and matches df"
      ]
    },
    {
      "cell_type": "code",
      "metadata": {
        "id": "QCxxTRiGif58"
      },
      "source": [
        "r_merge_df = df_clean.merge(fighter_clean, left_on='R_fighter', right_on='fighter_name', how='left')\n",
        "r_merge_df.rename(columns={'Height_cms':'R_Height',\n",
        "                          'Weight_lbs':'R_Weight',\n",
        "                          'Reach_cms':'R_Reach',\n",
        "                          'Stance':'R_Stance',\n",
        "                          'DOB':'R_DOB',\n",
        "                          'year': 'R_year'}, \n",
        "                 inplace=True)\n",
        "r_merge_df.drop('fighter_name', axis=1, inplace=True)\n",
        "\n",
        "merge_df = r_merge_df.merge(fighter_clean, left_on='B_fighter', right_on='fighter_name', how='left')\n",
        "merge_df.rename(columns={'Height_cms':'B_Height',\n",
        "                          'Weight_lbs':'B_Weight',\n",
        "                          'Reach_cms':'B_Reach',\n",
        "                          'Stance':'B_Stance',\n",
        "                          'DOB':'B_DOB',\n",
        "                          'year': 'B_year'}, \n",
        "                 inplace=True)\n",
        "\n",
        "merge_df.drop('fighter_name', axis=1, inplace=True)\n"
      ],
      "execution_count": null,
      "outputs": []
    },
    {
      "cell_type": "code",
      "metadata": {
        "colab": {
          "base_uri": "https://localhost:8080/"
        },
        "id": "2HU2mNRei5kd",
        "outputId": "a364febd-e633-4442-f430-8bae838b495e"
      },
      "source": [
        "merge_df.isnull().sum().sort_values()"
      ],
      "execution_count": null,
      "outputs": [
        {
          "output_type": "execute_result",
          "data": {
            "text/plain": [
              "R_fighter        0\n",
              "R_TD_att         0\n",
              "R_TD_landed      0\n",
              "B_TD_landed      0\n",
              "R_HEAD_att       0\n",
              "              ... \n",
              "R_Stance       134\n",
              "B_Stance       159\n",
              "B_DOB          172\n",
              "R_Reach        316\n",
              "B_Reach        666\n",
              "Length: 75, dtype: int64"
            ]
          },
          "metadata": {
            "tags": []
          },
          "execution_count": 33
        }
      ]
    },
    {
      "cell_type": "markdown",
      "metadata": {
        "id": "VLAswT1Bjen1"
      },
      "source": [
        "### Get the age of the fighters by the time they fight"
      ]
    },
    {
      "cell_type": "code",
      "metadata": {
        "colab": {
          "base_uri": "https://localhost:8080/"
        },
        "id": "9KpaW7gjjB8W",
        "outputId": "aeb09e5f-324c-4f64-cc62-3aef7c43fbf7"
      },
      "source": [
        "merge_df['R_age'] = merge_df['date'].dt.year - merge_df['R_DOB'].dt.year\n",
        "merge_df['B_age'] = merge_df['date'].dt.year - merge_df['B_DOB'].dt.year\n",
        "merge_df.info()"
      ],
      "execution_count": null,
      "outputs": [
        {
          "output_type": "stream",
          "text": [
            "<class 'pandas.core.frame.DataFrame'>\n",
            "Int64Index: 5144 entries, 0 to 5143\n",
            "Data columns (total 77 columns):\n",
            " #   Column               Non-Null Count  Dtype         \n",
            "---  ------               --------------  -----         \n",
            " 0   R_fighter            5144 non-null   object        \n",
            " 1   B_fighter            5144 non-null   object        \n",
            " 2   R_KD                 5144 non-null   int64         \n",
            " 3   B_KD                 5144 non-null   int64         \n",
            " 4   R_SIG_STR_pct        5144 non-null   float64       \n",
            " 5   B_SIG_STR_pct        5144 non-null   float64       \n",
            " 6   R_TD_pct             5144 non-null   float64       \n",
            " 7   B_TD_pct             5144 non-null   float64       \n",
            " 8   R_SUB_ATT            5144 non-null   int64         \n",
            " 9   B_SUB_ATT            5144 non-null   int64         \n",
            " 10  R_PASS               5144 non-null   int64         \n",
            " 11  B_PASS               5144 non-null   int64         \n",
            " 12  R_REV                5144 non-null   int64         \n",
            " 13  B_REV                5144 non-null   int64         \n",
            " 14  win_by               5144 non-null   object        \n",
            " 15  last_round           5144 non-null   int64         \n",
            " 16  last_round_time      5144 non-null   object        \n",
            " 17  Format               5144 non-null   object        \n",
            " 18  Referee              5121 non-null   object        \n",
            " 19  date                 5144 non-null   datetime64[ns]\n",
            " 20  location             5144 non-null   object        \n",
            " 21  Fight_type           5144 non-null   object        \n",
            " 22  Winner               5144 non-null   object        \n",
            " 23  win_by_Decision      5144 non-null   bool          \n",
            " 24  win_by_KO            5144 non-null   bool          \n",
            " 25  win_by_Submission    5144 non-null   bool          \n",
            " 26  win_by_Other         5144 non-null   bool          \n",
            " 27  R_SIG_STR._att       5144 non-null   int64         \n",
            " 28  R_SIG_STR._landed    5144 non-null   int64         \n",
            " 29  B_SIG_STR._att       5144 non-null   int64         \n",
            " 30  B_SIG_STR._landed    5144 non-null   int64         \n",
            " 31  R_TOTAL_STR._att     5144 non-null   int64         \n",
            " 32  R_TOTAL_STR._landed  5144 non-null   int64         \n",
            " 33  B_TOTAL_STR._att     5144 non-null   int64         \n",
            " 34  B_TOTAL_STR._landed  5144 non-null   int64         \n",
            " 35  R_TD_att             5144 non-null   int64         \n",
            " 36  R_TD_landed          5144 non-null   int64         \n",
            " 37  B_TD_att             5144 non-null   int64         \n",
            " 38  B_TD_landed          5144 non-null   int64         \n",
            " 39  R_HEAD_att           5144 non-null   int64         \n",
            " 40  R_HEAD_landed        5144 non-null   int64         \n",
            " 41  B_HEAD_att           5144 non-null   int64         \n",
            " 42  B_HEAD_landed        5144 non-null   int64         \n",
            " 43  R_BODY_att           5144 non-null   int64         \n",
            " 44  R_BODY_landed        5144 non-null   int64         \n",
            " 45  B_BODY_att           5144 non-null   int64         \n",
            " 46  B_BODY_landed        5144 non-null   int64         \n",
            " 47  R_LEG_att            5144 non-null   int64         \n",
            " 48  R_LEG_landed         5144 non-null   int64         \n",
            " 49  B_LEG_att            5144 non-null   int64         \n",
            " 50  B_LEG_landed         5144 non-null   int64         \n",
            " 51  R_DISTANCE_att       5144 non-null   int64         \n",
            " 52  R_DISTANCE_landed    5144 non-null   int64         \n",
            " 53  B_DISTANCE_att       5144 non-null   int64         \n",
            " 54  B_DISTANCE_landed    5144 non-null   int64         \n",
            " 55  R_CLINCH_att         5144 non-null   int64         \n",
            " 56  R_CLINCH_landed      5144 non-null   int64         \n",
            " 57  B_CLINCH_att         5144 non-null   int64         \n",
            " 58  B_CLINCH_landed      5144 non-null   int64         \n",
            " 59  R_GROUND_att         5144 non-null   int64         \n",
            " 60  R_GROUND_landed      5144 non-null   int64         \n",
            " 61  B_GROUND_att         5144 non-null   int64         \n",
            " 62  B_GROUND_landed      5144 non-null   int64         \n",
            " 63  weight_class         5144 non-null   object        \n",
            " 64  No_of_rounds         5144 non-null   int64         \n",
            " 65  R_Stance             5010 non-null   object        \n",
            " 66  R_DOB                5080 non-null   datetime64[ns]\n",
            " 67  R_Height             5140 non-null   float64       \n",
            " 68  R_Reach              4828 non-null   float64       \n",
            " 69  R_Weight             5141 non-null   float64       \n",
            " 70  B_Stance             4985 non-null   object        \n",
            " 71  B_DOB                4972 non-null   datetime64[ns]\n",
            " 72  B_Height             5136 non-null   float64       \n",
            " 73  B_Reach              4478 non-null   float64       \n",
            " 74  B_Weight             5138 non-null   float64       \n",
            " 75  R_age                5080 non-null   float64       \n",
            " 76  B_age                4972 non-null   float64       \n",
            "dtypes: bool(4), datetime64[ns](3), float64(12), int64(46), object(12)\n",
            "memory usage: 2.9+ MB\n"
          ],
          "name": "stdout"
        }
      ]
    },
    {
      "cell_type": "markdown",
      "metadata": {
        "id": "ZJ06EkaUlFSO"
      },
      "source": [
        "# Exploring data"
      ]
    },
    {
      "cell_type": "markdown",
      "metadata": {
        "id": "9Yhel2-GlLrH"
      },
      "source": [
        "## Find the overall trend of fights over the years"
      ]
    },
    {
      "cell_type": "code",
      "metadata": {
        "colab": {
          "base_uri": "https://localhost:8080/",
          "height": 405
        },
        "id": "a342AeVjmowF",
        "outputId": "2338c4e3-eb4d-4d54-fc21-82dc6e2fea05"
      },
      "source": [
        "merge_df['fight_year'] = pd.to_datetime(merge_df['date']).dt.year\n",
        "merge_df.head()"
      ],
      "execution_count": null,
      "outputs": [
        {
          "output_type": "execute_result",
          "data": {
            "text/html": [
              "<div>\n",
              "<style scoped>\n",
              "    .dataframe tbody tr th:only-of-type {\n",
              "        vertical-align: middle;\n",
              "    }\n",
              "\n",
              "    .dataframe tbody tr th {\n",
              "        vertical-align: top;\n",
              "    }\n",
              "\n",
              "    .dataframe thead th {\n",
              "        text-align: right;\n",
              "    }\n",
              "</style>\n",
              "<table border=\"1\" class=\"dataframe\">\n",
              "  <thead>\n",
              "    <tr style=\"text-align: right;\">\n",
              "      <th></th>\n",
              "      <th>R_fighter</th>\n",
              "      <th>B_fighter</th>\n",
              "      <th>R_KD</th>\n",
              "      <th>B_KD</th>\n",
              "      <th>R_SIG_STR_pct</th>\n",
              "      <th>B_SIG_STR_pct</th>\n",
              "      <th>R_TD_pct</th>\n",
              "      <th>B_TD_pct</th>\n",
              "      <th>R_SUB_ATT</th>\n",
              "      <th>B_SUB_ATT</th>\n",
              "      <th>R_PASS</th>\n",
              "      <th>B_PASS</th>\n",
              "      <th>R_REV</th>\n",
              "      <th>B_REV</th>\n",
              "      <th>win_by</th>\n",
              "      <th>last_round</th>\n",
              "      <th>last_round_time</th>\n",
              "      <th>Format</th>\n",
              "      <th>Referee</th>\n",
              "      <th>date</th>\n",
              "      <th>location</th>\n",
              "      <th>Fight_type</th>\n",
              "      <th>Winner</th>\n",
              "      <th>win_by_Decision</th>\n",
              "      <th>win_by_KO</th>\n",
              "      <th>win_by_Submission</th>\n",
              "      <th>win_by_Other</th>\n",
              "      <th>R_SIG_STR._att</th>\n",
              "      <th>R_SIG_STR._landed</th>\n",
              "      <th>B_SIG_STR._att</th>\n",
              "      <th>B_SIG_STR._landed</th>\n",
              "      <th>R_TOTAL_STR._att</th>\n",
              "      <th>R_TOTAL_STR._landed</th>\n",
              "      <th>B_TOTAL_STR._att</th>\n",
              "      <th>B_TOTAL_STR._landed</th>\n",
              "      <th>R_TD_att</th>\n",
              "      <th>R_TD_landed</th>\n",
              "      <th>B_TD_att</th>\n",
              "      <th>B_TD_landed</th>\n",
              "      <th>R_HEAD_att</th>\n",
              "      <th>R_HEAD_landed</th>\n",
              "      <th>B_HEAD_att</th>\n",
              "      <th>B_HEAD_landed</th>\n",
              "      <th>R_BODY_att</th>\n",
              "      <th>R_BODY_landed</th>\n",
              "      <th>B_BODY_att</th>\n",
              "      <th>B_BODY_landed</th>\n",
              "      <th>R_LEG_att</th>\n",
              "      <th>R_LEG_landed</th>\n",
              "      <th>B_LEG_att</th>\n",
              "      <th>B_LEG_landed</th>\n",
              "      <th>R_DISTANCE_att</th>\n",
              "      <th>R_DISTANCE_landed</th>\n",
              "      <th>B_DISTANCE_att</th>\n",
              "      <th>B_DISTANCE_landed</th>\n",
              "      <th>R_CLINCH_att</th>\n",
              "      <th>R_CLINCH_landed</th>\n",
              "      <th>B_CLINCH_att</th>\n",
              "      <th>B_CLINCH_landed</th>\n",
              "      <th>R_GROUND_att</th>\n",
              "      <th>R_GROUND_landed</th>\n",
              "      <th>B_GROUND_att</th>\n",
              "      <th>B_GROUND_landed</th>\n",
              "      <th>weight_class</th>\n",
              "      <th>No_of_rounds</th>\n",
              "      <th>R_Stance</th>\n",
              "      <th>R_DOB</th>\n",
              "      <th>R_Height</th>\n",
              "      <th>R_Reach</th>\n",
              "      <th>R_Weight</th>\n",
              "      <th>B_Stance</th>\n",
              "      <th>B_DOB</th>\n",
              "      <th>B_Height</th>\n",
              "      <th>B_Reach</th>\n",
              "      <th>B_Weight</th>\n",
              "      <th>R_age</th>\n",
              "      <th>B_age</th>\n",
              "      <th>fight_year</th>\n",
              "    </tr>\n",
              "  </thead>\n",
              "  <tbody>\n",
              "    <tr>\n",
              "      <th>0</th>\n",
              "      <td>Henry Cejudo</td>\n",
              "      <td>Marlon Moraes</td>\n",
              "      <td>0</td>\n",
              "      <td>0</td>\n",
              "      <td>0.52</td>\n",
              "      <td>0.47</td>\n",
              "      <td>0.25</td>\n",
              "      <td>0.00</td>\n",
              "      <td>1</td>\n",
              "      <td>0</td>\n",
              "      <td>1</td>\n",
              "      <td>0</td>\n",
              "      <td>0</td>\n",
              "      <td>0</td>\n",
              "      <td>KO/TKO</td>\n",
              "      <td>3</td>\n",
              "      <td>4:51</td>\n",
              "      <td>5 Rnd (5-5-5-5-5)</td>\n",
              "      <td>Marc Goddard</td>\n",
              "      <td>2019-06-08</td>\n",
              "      <td>Chicago, Illinois, USA</td>\n",
              "      <td>UFC Bantamweight Title Bout</td>\n",
              "      <td>Henry Cejudo</td>\n",
              "      <td>False</td>\n",
              "      <td>True</td>\n",
              "      <td>False</td>\n",
              "      <td>False</td>\n",
              "      <td>171</td>\n",
              "      <td>90</td>\n",
              "      <td>119</td>\n",
              "      <td>57</td>\n",
              "      <td>182</td>\n",
              "      <td>99</td>\n",
              "      <td>121</td>\n",
              "      <td>59</td>\n",
              "      <td>4</td>\n",
              "      <td>1</td>\n",
              "      <td>2</td>\n",
              "      <td>0</td>\n",
              "      <td>150</td>\n",
              "      <td>73</td>\n",
              "      <td>89</td>\n",
              "      <td>35</td>\n",
              "      <td>16</td>\n",
              "      <td>13</td>\n",
              "      <td>8</td>\n",
              "      <td>7</td>\n",
              "      <td>5</td>\n",
              "      <td>4</td>\n",
              "      <td>22</td>\n",
              "      <td>15</td>\n",
              "      <td>118</td>\n",
              "      <td>45</td>\n",
              "      <td>116</td>\n",
              "      <td>54</td>\n",
              "      <td>23</td>\n",
              "      <td>19</td>\n",
              "      <td>2</td>\n",
              "      <td>2</td>\n",
              "      <td>30</td>\n",
              "      <td>26</td>\n",
              "      <td>1</td>\n",
              "      <td>1</td>\n",
              "      <td>Bantamweight</td>\n",
              "      <td>5</td>\n",
              "      <td>Orthodox</td>\n",
              "      <td>1987-02-09</td>\n",
              "      <td>162.56</td>\n",
              "      <td>162.56</td>\n",
              "      <td>135.0</td>\n",
              "      <td>Orthodox</td>\n",
              "      <td>1988-04-26</td>\n",
              "      <td>167.64</td>\n",
              "      <td>170.18</td>\n",
              "      <td>135.0</td>\n",
              "      <td>32.0</td>\n",
              "      <td>31.0</td>\n",
              "      <td>2019</td>\n",
              "    </tr>\n",
              "    <tr>\n",
              "      <th>1</th>\n",
              "      <td>Valentina Shevchenko</td>\n",
              "      <td>Jessica Eye</td>\n",
              "      <td>1</td>\n",
              "      <td>0</td>\n",
              "      <td>0.72</td>\n",
              "      <td>0.16</td>\n",
              "      <td>1.00</td>\n",
              "      <td>0.00</td>\n",
              "      <td>1</td>\n",
              "      <td>0</td>\n",
              "      <td>3</td>\n",
              "      <td>0</td>\n",
              "      <td>0</td>\n",
              "      <td>0</td>\n",
              "      <td>KO/TKO</td>\n",
              "      <td>2</td>\n",
              "      <td>0:26</td>\n",
              "      <td>5 Rnd (5-5-5-5-5)</td>\n",
              "      <td>Robert Madrigal</td>\n",
              "      <td>2019-06-08</td>\n",
              "      <td>Chicago, Illinois, USA</td>\n",
              "      <td>UFC Women's Flyweight Title Bout</td>\n",
              "      <td>Valentina Shevchenko</td>\n",
              "      <td>False</td>\n",
              "      <td>True</td>\n",
              "      <td>False</td>\n",
              "      <td>False</td>\n",
              "      <td>11</td>\n",
              "      <td>8</td>\n",
              "      <td>12</td>\n",
              "      <td>2</td>\n",
              "      <td>40</td>\n",
              "      <td>37</td>\n",
              "      <td>52</td>\n",
              "      <td>42</td>\n",
              "      <td>2</td>\n",
              "      <td>2</td>\n",
              "      <td>0</td>\n",
              "      <td>0</td>\n",
              "      <td>5</td>\n",
              "      <td>4</td>\n",
              "      <td>7</td>\n",
              "      <td>0</td>\n",
              "      <td>6</td>\n",
              "      <td>4</td>\n",
              "      <td>2</td>\n",
              "      <td>0</td>\n",
              "      <td>0</td>\n",
              "      <td>0</td>\n",
              "      <td>3</td>\n",
              "      <td>2</td>\n",
              "      <td>8</td>\n",
              "      <td>5</td>\n",
              "      <td>12</td>\n",
              "      <td>2</td>\n",
              "      <td>2</td>\n",
              "      <td>2</td>\n",
              "      <td>0</td>\n",
              "      <td>0</td>\n",
              "      <td>1</td>\n",
              "      <td>1</td>\n",
              "      <td>0</td>\n",
              "      <td>0</td>\n",
              "      <td>Women's Flyweight</td>\n",
              "      <td>5</td>\n",
              "      <td>Southpaw</td>\n",
              "      <td>1988-03-07</td>\n",
              "      <td>165.10</td>\n",
              "      <td>167.64</td>\n",
              "      <td>125.0</td>\n",
              "      <td>Orthodox</td>\n",
              "      <td>1986-07-27</td>\n",
              "      <td>167.64</td>\n",
              "      <td>167.64</td>\n",
              "      <td>125.0</td>\n",
              "      <td>31.0</td>\n",
              "      <td>33.0</td>\n",
              "      <td>2019</td>\n",
              "    </tr>\n",
              "    <tr>\n",
              "      <th>2</th>\n",
              "      <td>Tony Ferguson</td>\n",
              "      <td>Donald Cerrone</td>\n",
              "      <td>0</td>\n",
              "      <td>0</td>\n",
              "      <td>0.52</td>\n",
              "      <td>0.36</td>\n",
              "      <td>0.00</td>\n",
              "      <td>1.00</td>\n",
              "      <td>0</td>\n",
              "      <td>0</td>\n",
              "      <td>0</td>\n",
              "      <td>0</td>\n",
              "      <td>0</td>\n",
              "      <td>0</td>\n",
              "      <td>TKO - Doctor's Stoppage</td>\n",
              "      <td>2</td>\n",
              "      <td>5:00</td>\n",
              "      <td>3 Rnd (5-5-5)</td>\n",
              "      <td>Dan Miragliotta</td>\n",
              "      <td>2019-06-08</td>\n",
              "      <td>Chicago, Illinois, USA</td>\n",
              "      <td>Lightweight Bout</td>\n",
              "      <td>Tony Ferguson</td>\n",
              "      <td>False</td>\n",
              "      <td>True</td>\n",
              "      <td>False</td>\n",
              "      <td>False</td>\n",
              "      <td>200</td>\n",
              "      <td>104</td>\n",
              "      <td>185</td>\n",
              "      <td>68</td>\n",
              "      <td>200</td>\n",
              "      <td>104</td>\n",
              "      <td>185</td>\n",
              "      <td>68</td>\n",
              "      <td>0</td>\n",
              "      <td>0</td>\n",
              "      <td>1</td>\n",
              "      <td>1</td>\n",
              "      <td>144</td>\n",
              "      <td>65</td>\n",
              "      <td>152</td>\n",
              "      <td>43</td>\n",
              "      <td>37</td>\n",
              "      <td>25</td>\n",
              "      <td>23</td>\n",
              "      <td>15</td>\n",
              "      <td>19</td>\n",
              "      <td>14</td>\n",
              "      <td>10</td>\n",
              "      <td>10</td>\n",
              "      <td>198</td>\n",
              "      <td>103</td>\n",
              "      <td>184</td>\n",
              "      <td>68</td>\n",
              "      <td>2</td>\n",
              "      <td>1</td>\n",
              "      <td>1</td>\n",
              "      <td>0</td>\n",
              "      <td>0</td>\n",
              "      <td>0</td>\n",
              "      <td>0</td>\n",
              "      <td>0</td>\n",
              "      <td>Lightweight</td>\n",
              "      <td>3</td>\n",
              "      <td>Orthodox</td>\n",
              "      <td>1984-02-12</td>\n",
              "      <td>180.34</td>\n",
              "      <td>193.04</td>\n",
              "      <td>155.0</td>\n",
              "      <td>Orthodox</td>\n",
              "      <td>1983-03-29</td>\n",
              "      <td>185.42</td>\n",
              "      <td>185.42</td>\n",
              "      <td>155.0</td>\n",
              "      <td>35.0</td>\n",
              "      <td>36.0</td>\n",
              "      <td>2019</td>\n",
              "    </tr>\n",
              "    <tr>\n",
              "      <th>3</th>\n",
              "      <td>Jimmie Rivera</td>\n",
              "      <td>Petr Yan</td>\n",
              "      <td>0</td>\n",
              "      <td>2</td>\n",
              "      <td>0.38</td>\n",
              "      <td>0.29</td>\n",
              "      <td>0.00</td>\n",
              "      <td>0.33</td>\n",
              "      <td>0</td>\n",
              "      <td>0</td>\n",
              "      <td>0</td>\n",
              "      <td>1</td>\n",
              "      <td>0</td>\n",
              "      <td>0</td>\n",
              "      <td>Decision - Unanimous</td>\n",
              "      <td>3</td>\n",
              "      <td>5:00</td>\n",
              "      <td>3 Rnd (5-5-5)</td>\n",
              "      <td>Kevin MacDonald</td>\n",
              "      <td>2019-06-08</td>\n",
              "      <td>Chicago, Illinois, USA</td>\n",
              "      <td>Bantamweight Bout</td>\n",
              "      <td>Petr Yan</td>\n",
              "      <td>True</td>\n",
              "      <td>False</td>\n",
              "      <td>False</td>\n",
              "      <td>False</td>\n",
              "      <td>192</td>\n",
              "      <td>73</td>\n",
              "      <td>189</td>\n",
              "      <td>56</td>\n",
              "      <td>195</td>\n",
              "      <td>76</td>\n",
              "      <td>192</td>\n",
              "      <td>58</td>\n",
              "      <td>3</td>\n",
              "      <td>0</td>\n",
              "      <td>3</td>\n",
              "      <td>1</td>\n",
              "      <td>145</td>\n",
              "      <td>42</td>\n",
              "      <td>166</td>\n",
              "      <td>40</td>\n",
              "      <td>24</td>\n",
              "      <td>15</td>\n",
              "      <td>19</td>\n",
              "      <td>13</td>\n",
              "      <td>23</td>\n",
              "      <td>16</td>\n",
              "      <td>4</td>\n",
              "      <td>3</td>\n",
              "      <td>173</td>\n",
              "      <td>60</td>\n",
              "      <td>167</td>\n",
              "      <td>42</td>\n",
              "      <td>15</td>\n",
              "      <td>9</td>\n",
              "      <td>12</td>\n",
              "      <td>10</td>\n",
              "      <td>4</td>\n",
              "      <td>4</td>\n",
              "      <td>10</td>\n",
              "      <td>4</td>\n",
              "      <td>Bantamweight</td>\n",
              "      <td>3</td>\n",
              "      <td>Orthodox</td>\n",
              "      <td>1989-06-29</td>\n",
              "      <td>162.56</td>\n",
              "      <td>172.72</td>\n",
              "      <td>135.0</td>\n",
              "      <td>Switch</td>\n",
              "      <td>1993-02-11</td>\n",
              "      <td>170.18</td>\n",
              "      <td>170.18</td>\n",
              "      <td>135.0</td>\n",
              "      <td>30.0</td>\n",
              "      <td>26.0</td>\n",
              "      <td>2019</td>\n",
              "    </tr>\n",
              "    <tr>\n",
              "      <th>4</th>\n",
              "      <td>Tai Tuivasa</td>\n",
              "      <td>Blagoy Ivanov</td>\n",
              "      <td>0</td>\n",
              "      <td>1</td>\n",
              "      <td>0.44</td>\n",
              "      <td>0.59</td>\n",
              "      <td>0.00</td>\n",
              "      <td>1.00</td>\n",
              "      <td>0</td>\n",
              "      <td>0</td>\n",
              "      <td>0</td>\n",
              "      <td>0</td>\n",
              "      <td>0</td>\n",
              "      <td>0</td>\n",
              "      <td>Decision - Unanimous</td>\n",
              "      <td>3</td>\n",
              "      <td>5:00</td>\n",
              "      <td>3 Rnd (5-5-5)</td>\n",
              "      <td>Dan Miragliotta</td>\n",
              "      <td>2019-06-08</td>\n",
              "      <td>Chicago, Illinois, USA</td>\n",
              "      <td>Heavyweight Bout</td>\n",
              "      <td>Blagoy Ivanov</td>\n",
              "      <td>True</td>\n",
              "      <td>False</td>\n",
              "      <td>False</td>\n",
              "      <td>False</td>\n",
              "      <td>144</td>\n",
              "      <td>64</td>\n",
              "      <td>123</td>\n",
              "      <td>73</td>\n",
              "      <td>146</td>\n",
              "      <td>66</td>\n",
              "      <td>131</td>\n",
              "      <td>81</td>\n",
              "      <td>0</td>\n",
              "      <td>0</td>\n",
              "      <td>2</td>\n",
              "      <td>2</td>\n",
              "      <td>114</td>\n",
              "      <td>39</td>\n",
              "      <td>114</td>\n",
              "      <td>65</td>\n",
              "      <td>7</td>\n",
              "      <td>6</td>\n",
              "      <td>8</td>\n",
              "      <td>7</td>\n",
              "      <td>23</td>\n",
              "      <td>19</td>\n",
              "      <td>1</td>\n",
              "      <td>1</td>\n",
              "      <td>126</td>\n",
              "      <td>50</td>\n",
              "      <td>111</td>\n",
              "      <td>62</td>\n",
              "      <td>18</td>\n",
              "      <td>14</td>\n",
              "      <td>6</td>\n",
              "      <td>5</td>\n",
              "      <td>0</td>\n",
              "      <td>0</td>\n",
              "      <td>6</td>\n",
              "      <td>6</td>\n",
              "      <td>Heavyweight</td>\n",
              "      <td>3</td>\n",
              "      <td>Southpaw</td>\n",
              "      <td>1993-03-16</td>\n",
              "      <td>187.96</td>\n",
              "      <td>190.50</td>\n",
              "      <td>264.0</td>\n",
              "      <td>Southpaw</td>\n",
              "      <td>1986-10-09</td>\n",
              "      <td>180.34</td>\n",
              "      <td>185.42</td>\n",
              "      <td>250.0</td>\n",
              "      <td>26.0</td>\n",
              "      <td>33.0</td>\n",
              "      <td>2019</td>\n",
              "    </tr>\n",
              "  </tbody>\n",
              "</table>\n",
              "</div>"
            ],
            "text/plain": [
              "              R_fighter       B_fighter  R_KD  ...  R_age  B_age  fight_year\n",
              "0          Henry Cejudo   Marlon Moraes     0  ...   32.0   31.0        2019\n",
              "1  Valentina Shevchenko     Jessica Eye     1  ...   31.0   33.0        2019\n",
              "2         Tony Ferguson  Donald Cerrone     0  ...   35.0   36.0        2019\n",
              "3         Jimmie Rivera        Petr Yan     0  ...   30.0   26.0        2019\n",
              "4           Tai Tuivasa   Blagoy Ivanov     0  ...   26.0   33.0        2019\n",
              "\n",
              "[5 rows x 78 columns]"
            ]
          },
          "metadata": {
            "tags": []
          },
          "execution_count": 35
        }
      ]
    },
    {
      "cell_type": "code",
      "metadata": {
        "id": "Zn1UQmtQnGc3"
      },
      "source": [
        "# Number of matchs over years:\n",
        "matchs_by_year = merge_df.groupby('fight_year', as_index=False)['date'].count()\n",
        "\n",
        "# Number of fighter over years:\n",
        "R_fighter = merge_df[['R_fighter','fight_year','Winner']].rename({'R_fighter': 'Fighter'}, axis='columns')\n",
        "B_fighter = merge_df[['B_fighter','fight_year','Winner']].rename({'B_fighter': 'Fighter'}, axis='columns')\n",
        "RB_fighter = R_fighter.append(B_fighter)\n",
        "fighters_by_year = RB_fighter.groupby('fight_year', as_index=False)['Fighter'].nunique()"
      ],
      "execution_count": null,
      "outputs": []
    },
    {
      "cell_type": "code",
      "metadata": {
        "id": "dnzhRdW9pXAt"
      },
      "source": [
        "year_list = matchs_by_year['fight_year'].to_list()\n",
        "match_by_year = matchs_by_year['date'].to_list()\n",
        "fighter_by_year = fighters_by_year['Fighter'].to_list()"
      ],
      "execution_count": null,
      "outputs": []
    },
    {
      "cell_type": "code",
      "metadata": {
        "colab": {
          "base_uri": "https://localhost:8080/",
          "height": 400
        },
        "id": "yGpgTG1Comaj",
        "outputId": "18730ea3-bd1d-4ecb-f74f-104b8fa0e51f"
      },
      "source": [
        "fig, ax = plt.subplots(figsize=(12,6))\n",
        "ax.plot(year_list, match_by_year, color ='xkcd:scarlet' ,  lw=3, label='no_of_match')  \n",
        "ax.bar(year_list, fighter_by_year, color ='xkcd:steel blue', label = 'no_of_fighter')  \n",
        "ax.set(xlabel='Year', \n",
        "       title='Overall trend of fights over years',\n",
        "       xticks= range(min(year_list), max(year_list)+1,2))\n",
        "ax.grid(False)\n",
        "ax.legend(loc='upper left')\n",
        "ax.axvline(x = 2005, color = 'xkcd:moss', ls = '--')\n",
        "plt.show()"
      ],
      "execution_count": null,
      "outputs": [
        {
          "output_type": "display_data",
          "data": {
            "image/png": "[encoded data removed]",
            "text/plain": [
              "<Figure size 864x432 with 1 Axes>"
            ]
          },
          "metadata": {
            "tags": []
          }
        }
      ]
    },
    {
      "cell_type": "markdown",
      "metadata": {
        "id": "BDr3PKv_xh2i"
      },
      "source": [
        "## Win_by over year"
      ]
    },
    {
      "cell_type": "code",
      "metadata": {
        "colab": {
          "base_uri": "https://localhost:8080/"
        },
        "id": "yEve1rw3yyo6",
        "outputId": "3181318b-2d7c-401e-8e33-5a272e111c49"
      },
      "source": [
        "merge_df['win_by'].unique()"
      ],
      "execution_count": null,
      "outputs": [
        {
          "output_type": "execute_result",
          "data": {
            "text/plain": [
              "array(['KO/TKO', \"TKO - Doctor's Stoppage\", 'Decision - Unanimous',\n",
              "       'Submission', 'Decision - Split', 'Decision - Majority', 'DQ',\n",
              "       'Overturned', 'Could Not Continue', 'Other'], dtype=object)"
            ]
          },
          "metadata": {
            "tags": []
          },
          "execution_count": 39
        }
      ]
    },
    {
      "cell_type": "code",
      "metadata": {
        "id": "xH6_T0tqN-RB"
      },
      "source": [
        "Decision = merge_df.groupby('fight_year', as_index=False)['win_by_Decision'].mean()['win_by_Decision'].to_list()\n",
        "KO_TKO = merge_df.groupby('fight_year', as_index=False)['win_by_KO'].mean()['win_by_KO'].to_list()\n",
        "Submission = merge_df.groupby('fight_year', as_index=False)['win_by_Submission'].mean()['win_by_Submission'].to_list()\n",
        "Others = merge_df.groupby('fight_year', as_index=False)['win_by_Other'].mean()['win_by_Other'].to_list()"
      ],
      "execution_count": null,
      "outputs": []
    },
    {
      "cell_type": "code",
      "metadata": {
        "id": "OXtySFnZI6Hx"
      },
      "source": [
        "data = {\n",
        "    'KO_TKO': merge_df['win_by_Decision'].sum(),\n",
        "    'Submission': merge_df['win_by_KO'].sum(),\n",
        "    'Decision': merge_df['win_by_Submission'].sum(),\n",
        "    'Others': merge_df['win_by_Other'].sum(),\n",
        "}"
      ],
      "execution_count": null,
      "outputs": []
    },
    {
      "cell_type": "code",
      "metadata": {
        "colab": {
          "base_uri": "https://localhost:8080/",
          "height": 372
        },
        "id": "6sbeHXvYK66V",
        "outputId": "c60f49fe-9257-4f2c-817c-616e23ad75e6"
      },
      "source": [
        "fig, ax = plt.subplots(figsize=(12,6))\n",
        "\n",
        "ax.pie(data.values(), labels=data.keys(), autopct='%1.1f%%', colors=['xkcd:moss', 'xkcd:ochre','xkcd:slate blue', 'xkcd:crimson'])\n",
        "ax.set(title='Win_by_%')\n",
        "ax.axis('equal')\n",
        "ax.legend(loc='upper left')\n",
        "\n",
        "plt.show()"
      ],
      "execution_count": null,
      "outputs": [
        {
          "output_type": "display_data",
          "data": {
            "image/png": "[encoded data removed]",
            "text/plain": [
              "<Figure size 864x432 with 1 Axes>"
            ]
          },
          "metadata": {
            "tags": []
          }
        }
      ]
    },
    {
      "cell_type": "code",
      "metadata": {
        "colab": {
          "base_uri": "https://localhost:8080/",
          "height": 400
        },
        "id": "6Uznh6EMyXJ-",
        "outputId": "900542a8-0b50-4cee-c774-e923bf050d09"
      },
      "source": [
        "fig, ax = plt.subplots(figsize=(12,6))\n",
        "ax.stackplot(year_list, KO_TKO, Submission,Decision,Others,labels=data.keys(),colors=['xkcd:moss', 'xkcd:ochre','xkcd:slate blue', 'xkcd:crimson'])\n",
        "ax.set(title='Win_by over years',\n",
        "       xlabel='Year',\n",
        "       ylabel='Win_by',\n",
        "       xticks= range(min(year_list), max(year_list)+1,2))\n",
        "ax.grid(False)\n",
        "ax.legend(loc='center left')\n",
        "\n",
        "plt.show()"
      ],
      "execution_count": null,
      "outputs": [
        {
          "output_type": "display_data",
          "data": {
            "image/png": "[encoded data removed]",
            "text/plain": [
              "<Figure size 864x432 with 1 Axes>"
            ]
          },
          "metadata": {
            "tags": []
          }
        }
      ]
    },
    {
      "cell_type": "code",
      "metadata": {
        "id": "Kl6mcdk7cR_u"
      },
      "source": [
        "weight_list = list(merge_df['weight_class'].unique())"
      ],
      "execution_count": null,
      "outputs": []
    },
    {
      "cell_type": "code",
      "metadata": {
        "id": "ppb1Wniob71P"
      },
      "source": [
        "Decision_WC = np.array(merge_df.groupby('weight_class', as_index=False)['win_by_Decision'].mean()['win_by_Decision'].to_list())\n",
        "KO_TKO_WC = np.array(merge_df.groupby('weight_class', as_index=False)['win_by_KO'].mean()['win_by_KO'].to_list())\n",
        "Submission_WC = np.array(merge_df.groupby('weight_class', as_index=False)['win_by_Submission'].mean()['win_by_Submission'].to_list())\n",
        "Others_WC = np.array(merge_df.groupby('weight_class', as_index=False)['win_by_Other'].mean()['win_by_Other'].to_list())"
      ],
      "execution_count": null,
      "outputs": []
    },
    {
      "cell_type": "code",
      "metadata": {
        "colab": {
          "base_uri": "https://localhost:8080/",
          "height": 488
        },
        "id": "9lo1eZ_1cS1t",
        "outputId": "c3ca6dfc-9cdc-4d1e-cbb0-9575fa5067f1"
      },
      "source": [
        "fig, ax = plt.subplots(figsize=(12,6))\n",
        "ax.bar(weight_list, KO_TKO_WC , label = 'KO_TKO' , color = 'xkcd:moss')\n",
        "ax.bar(weight_list, Submission_WC, label = 'Submission', color = 'xkcd:ochre',bottom=KO_TKO_WC)\n",
        "ax.bar(weight_list, Decision_WC, label = 'Decision', color = 'xkcd:slate blue', bottom= KO_TKO_WC + Submission_WC)\n",
        "ax.bar(weight_list, Others_WC, label = 'Others', color = 'xkcd:crimson', bottom=KO_TKO_WC + Submission_WC+Decision_WC)\n",
        "ax.set(title='Win_by over years',\n",
        "       xlabel='weight class',\n",
        "       ylabel='Win_by',\n",
        "      )\n",
        "plt.xticks(label = weight_list , rotation=60)\n",
        "ax.grid(False)\n",
        "ax.legend(loc='center left')\n",
        "\n",
        "plt.show()"
      ],
      "execution_count": null,
      "outputs": [
        {
          "output_type": "display_data",
          "data": {
            "image/png": "[encoded data removed]",
            "text/plain": [
              "<Figure size 864x432 with 1 Axes>"
            ]
          },
          "metadata": {
            "tags": []
          }
        }
      ]
    },
    {
      "cell_type": "markdown",
      "metadata": {
        "id": "XvR0cp15k6Ab"
      },
      "source": [
        "## The rhythm & flow of fighting"
      ]
    },
    {
      "cell_type": "code",
      "metadata": {
        "id": "6yxaO0f2lVi3"
      },
      "source": [
        "merge_df[['last_round','No_of_rounds','win_by_KO','win_by_Submission']]"
      ],
      "execution_count": null,
      "outputs": []
    },
    {
      "cell_type": "code",
      "metadata": {
        "id": "S9McqMu8mqRE"
      },
      "source": [
        "df1 = merge_df.groupby('last_round', as_index=False).count()[['last_round','No_of_rounds']]\n",
        "df2 = merge_df.groupby('last_round', as_index=False).sum()['win_by_KO']\n",
        "df3 = merge_df.groupby('last_round', as_index=False).sum()['win_by_Submission']"
      ],
      "execution_count": null,
      "outputs": []
    },
    {
      "cell_type": "code",
      "metadata": {
        "colab": {
          "base_uri": "https://localhost:8080/",
          "height": 197
        },
        "id": "Dw23FJ95nY6l",
        "outputId": "54a1e809-5ac8-47f3-a441-898e65bbe472"
      },
      "source": [
        "finish = pd.concat([df1, df2, df3], axis=1, sort=False)\n",
        "finish"
      ],
      "execution_count": null,
      "outputs": [
        {
          "output_type": "execute_result",
          "data": {
            "text/html": [
              "<div>\n",
              "<style scoped>\n",
              "    .dataframe tbody tr th:only-of-type {\n",
              "        vertical-align: middle;\n",
              "    }\n",
              "\n",
              "    .dataframe tbody tr th {\n",
              "        vertical-align: top;\n",
              "    }\n",
              "\n",
              "    .dataframe thead th {\n",
              "        text-align: right;\n",
              "    }\n",
              "</style>\n",
              "<table border=\"1\" class=\"dataframe\">\n",
              "  <thead>\n",
              "    <tr style=\"text-align: right;\">\n",
              "      <th></th>\n",
              "      <th>last_round</th>\n",
              "      <th>No_of_rounds</th>\n",
              "      <th>win_by_KO</th>\n",
              "      <th>win_by_Submission</th>\n",
              "    </tr>\n",
              "  </thead>\n",
              "  <tbody>\n",
              "    <tr>\n",
              "      <th>0</th>\n",
              "      <td>1</td>\n",
              "      <td>1568</td>\n",
              "      <td>954</td>\n",
              "      <td>579</td>\n",
              "    </tr>\n",
              "    <tr>\n",
              "      <th>1</th>\n",
              "      <td>2</td>\n",
              "      <td>865</td>\n",
              "      <td>497</td>\n",
              "      <td>330</td>\n",
              "    </tr>\n",
              "    <tr>\n",
              "      <th>2</th>\n",
              "      <td>3</td>\n",
              "      <td>2526</td>\n",
              "      <td>236</td>\n",
              "      <td>156</td>\n",
              "    </tr>\n",
              "    <tr>\n",
              "      <th>3</th>\n",
              "      <td>4</td>\n",
              "      <td>30</td>\n",
              "      <td>19</td>\n",
              "      <td>11</td>\n",
              "    </tr>\n",
              "    <tr>\n",
              "      <th>4</th>\n",
              "      <td>5</td>\n",
              "      <td>155</td>\n",
              "      <td>11</td>\n",
              "      <td>7</td>\n",
              "    </tr>\n",
              "  </tbody>\n",
              "</table>\n",
              "</div>"
            ],
            "text/plain": [
              "   last_round  No_of_rounds  win_by_KO  win_by_Submission\n",
              "0           1          1568        954                579\n",
              "1           2           865        497                330\n",
              "2           3          2526        236                156\n",
              "3           4            30         19                 11\n",
              "4           5           155         11                  7"
            ]
          },
          "metadata": {
            "tags": []
          },
          "execution_count": 65
        }
      ]
    },
    {
      "cell_type": "code",
      "metadata": {
        "id": "2TkYzTTUq6Rv"
      },
      "source": [
        "finish['Chance_to_finish'] = finish['No_of_rounds']/finish['No_of_rounds'].sum()\n",
        "finish['Chance_to_KO_TKO'] = finish['win_by_KO']/finish['No_of_rounds'].sum()\n",
        "finish['Chance_to_Submission'] = finish['win_by_Submission']/finish['No_of_rounds'].sum()"
      ],
      "execution_count": null,
      "outputs": []
    },
    {
      "cell_type": "code",
      "metadata": {
        "colab": {
          "base_uri": "https://localhost:8080/",
          "height": 197
        },
        "id": "rIpP7oURs2de",
        "outputId": "143d7d09-02de-4692-f6df-824d33b1f076"
      },
      "source": [
        "finish"
      ],
      "execution_count": null,
      "outputs": [
        {
          "output_type": "execute_result",
          "data": {
            "text/html": [
              "<div>\n",
              "<style scoped>\n",
              "    .dataframe tbody tr th:only-of-type {\n",
              "        vertical-align: middle;\n",
              "    }\n",
              "\n",
              "    .dataframe tbody tr th {\n",
              "        vertical-align: top;\n",
              "    }\n",
              "\n",
              "    .dataframe thead th {\n",
              "        text-align: right;\n",
              "    }\n",
              "</style>\n",
              "<table border=\"1\" class=\"dataframe\">\n",
              "  <thead>\n",
              "    <tr style=\"text-align: right;\">\n",
              "      <th></th>\n",
              "      <th>last_round</th>\n",
              "      <th>No_of_rounds</th>\n",
              "      <th>win_by_KO</th>\n",
              "      <th>win_by_Submission</th>\n",
              "      <th>Chance_to_finish</th>\n",
              "      <th>Chance_to_KO_TKO</th>\n",
              "      <th>Chance_to_Submission</th>\n",
              "    </tr>\n",
              "  </thead>\n",
              "  <tbody>\n",
              "    <tr>\n",
              "      <th>0</th>\n",
              "      <td>1</td>\n",
              "      <td>1568</td>\n",
              "      <td>954</td>\n",
              "      <td>579</td>\n",
              "      <td>0.304821</td>\n",
              "      <td>0.185459</td>\n",
              "      <td>0.112558</td>\n",
              "    </tr>\n",
              "    <tr>\n",
              "      <th>1</th>\n",
              "      <td>2</td>\n",
              "      <td>865</td>\n",
              "      <td>497</td>\n",
              "      <td>330</td>\n",
              "      <td>0.168157</td>\n",
              "      <td>0.096617</td>\n",
              "      <td>0.064152</td>\n",
              "    </tr>\n",
              "    <tr>\n",
              "      <th>2</th>\n",
              "      <td>3</td>\n",
              "      <td>2526</td>\n",
              "      <td>236</td>\n",
              "      <td>156</td>\n",
              "      <td>0.491058</td>\n",
              "      <td>0.045879</td>\n",
              "      <td>0.030327</td>\n",
              "    </tr>\n",
              "    <tr>\n",
              "      <th>3</th>\n",
              "      <td>4</td>\n",
              "      <td>30</td>\n",
              "      <td>19</td>\n",
              "      <td>11</td>\n",
              "      <td>0.005832</td>\n",
              "      <td>0.003694</td>\n",
              "      <td>0.002138</td>\n",
              "    </tr>\n",
              "    <tr>\n",
              "      <th>4</th>\n",
              "      <td>5</td>\n",
              "      <td>155</td>\n",
              "      <td>11</td>\n",
              "      <td>7</td>\n",
              "      <td>0.030132</td>\n",
              "      <td>0.002138</td>\n",
              "      <td>0.001361</td>\n",
              "    </tr>\n",
              "  </tbody>\n",
              "</table>\n",
              "</div>"
            ],
            "text/plain": [
              "   last_round  No_of_rounds  ...  Chance_to_KO_TKO  Chance_to_Submission\n",
              "0           1          1568  ...          0.185459              0.112558\n",
              "1           2           865  ...          0.096617              0.064152\n",
              "2           3          2526  ...          0.045879              0.030327\n",
              "3           4            30  ...          0.003694              0.002138\n",
              "4           5           155  ...          0.002138              0.001361\n",
              "\n",
              "[5 rows x 7 columns]"
            ]
          },
          "metadata": {
            "tags": []
          },
          "execution_count": 74
        }
      ]
    },
    {
      "cell_type": "code",
      "metadata": {
        "id": "6DM10b1QrThv"
      },
      "source": [
        "Chance_to_finish = finish['Chance_to_finish'].to_list()\n",
        "Chance_to_KO_TKO = finish['Chance_to_KO_TKO'].to_list()\n",
        "Chance_to_Submission = finish['Chance_to_Submission'].to_list()\n",
        "last_round = np.array(finish['last_round'].to_list())"
      ],
      "execution_count": null,
      "outputs": []
    },
    {
      "cell_type": "code",
      "metadata": {
        "colab": {
          "base_uri": "https://localhost:8080/",
          "height": 398
        },
        "id": "mw8Wl6HisZM2",
        "outputId": "94d694b2-5ca5-4fc7-f6a3-b33d7ddd3885"
      },
      "source": [
        "fig, ax = plt.subplots(figsize=(12,6))\n",
        "bar_width = 0.25\n",
        "\n",
        "ax.bar(last_round + 0.00, Chance_to_finish , width=bar_width, label = 'Chance_to_finish' , color = 'xkcd:slate blue')\n",
        "ax.bar(last_round + 0.25, Chance_to_KO_TKO,  width=bar_width,label = 'Chance_to_KO_TKO', color ='xkcd:moss' )\n",
        "ax.bar(last_round + 0.5, Chance_to_Submission,  width=bar_width, label = 'Chance_to_Submission', color ='xkcd:ochre' )\n",
        "\n",
        "ax.set(title='Chances of finish per round',\n",
        "       ylabel= 'Probability',\n",
        "       xlabel='Round'\n",
        "      )\n",
        "plt.xticks(label =last_round , rotation=60)\n",
        "ax.grid(False)\n",
        "ax.legend(loc='upper left')\n",
        "\n",
        "plt.show()"
      ],
      "execution_count": null,
      "outputs": [
        {
          "output_type": "display_data",
          "data": {
            "image/png": "[encoded data removed]",
            "text/plain": [
              "<Figure size 864x432 with 1 Axes>"
            ]
          },
          "metadata": {
            "tags": []
          }
        }
      ]
    },
    {
      "cell_type": "markdown",
      "metadata": {
        "id": "X_iRmmDwVtxz"
      },
      "source": [
        "## Top-Ranking"
      ]
    },
    {
      "cell_type": "code",
      "metadata": {
        "id": "V4U-eT2hUoSP"
      },
      "source": [
        "RB_fighter['Winner_T'] = RB_fighter['Winner'] == RB_fighter['Fighter']"
      ],
      "execution_count": null,
      "outputs": []
    },
    {
      "cell_type": "code",
      "metadata": {
        "colab": {
          "base_uri": "https://localhost:8080/",
          "height": 405
        },
        "id": "LbTD1vi4XU0M",
        "outputId": "7d474e36-1b37-4a25-d09a-7f746c158141"
      },
      "source": [
        "RB_fighter"
      ],
      "execution_count": null,
      "outputs": [
        {
          "output_type": "execute_result",
          "data": {
            "text/html": [
              "<div>\n",
              "<style scoped>\n",
              "    .dataframe tbody tr th:only-of-type {\n",
              "        vertical-align: middle;\n",
              "    }\n",
              "\n",
              "    .dataframe tbody tr th {\n",
              "        vertical-align: top;\n",
              "    }\n",
              "\n",
              "    .dataframe thead th {\n",
              "        text-align: right;\n",
              "    }\n",
              "</style>\n",
              "<table border=\"1\" class=\"dataframe\">\n",
              "  <thead>\n",
              "    <tr style=\"text-align: right;\">\n",
              "      <th></th>\n",
              "      <th>Fighter</th>\n",
              "      <th>fight_year</th>\n",
              "      <th>Winner</th>\n",
              "      <th>Winner_T</th>\n",
              "    </tr>\n",
              "  </thead>\n",
              "  <tbody>\n",
              "    <tr>\n",
              "      <th>0</th>\n",
              "      <td>Henry Cejudo</td>\n",
              "      <td>2019</td>\n",
              "      <td>Henry Cejudo</td>\n",
              "      <td>True</td>\n",
              "    </tr>\n",
              "    <tr>\n",
              "      <th>1</th>\n",
              "      <td>Valentina Shevchenko</td>\n",
              "      <td>2019</td>\n",
              "      <td>Valentina Shevchenko</td>\n",
              "      <td>True</td>\n",
              "    </tr>\n",
              "    <tr>\n",
              "      <th>2</th>\n",
              "      <td>Tony Ferguson</td>\n",
              "      <td>2019</td>\n",
              "      <td>Tony Ferguson</td>\n",
              "      <td>True</td>\n",
              "    </tr>\n",
              "    <tr>\n",
              "      <th>3</th>\n",
              "      <td>Jimmie Rivera</td>\n",
              "      <td>2019</td>\n",
              "      <td>Petr Yan</td>\n",
              "      <td>False</td>\n",
              "    </tr>\n",
              "    <tr>\n",
              "      <th>4</th>\n",
              "      <td>Tai Tuivasa</td>\n",
              "      <td>2019</td>\n",
              "      <td>Blagoy Ivanov</td>\n",
              "      <td>False</td>\n",
              "    </tr>\n",
              "    <tr>\n",
              "      <th>...</th>\n",
              "      <td>...</td>\n",
              "      <td>...</td>\n",
              "      <td>...</td>\n",
              "      <td>...</td>\n",
              "    </tr>\n",
              "    <tr>\n",
              "      <th>5139</th>\n",
              "      <td>Kevin Rosier</td>\n",
              "      <td>1993</td>\n",
              "      <td>Gerard Gordeau</td>\n",
              "      <td>False</td>\n",
              "    </tr>\n",
              "    <tr>\n",
              "      <th>5140</th>\n",
              "      <td>Patrick Smith</td>\n",
              "      <td>1993</td>\n",
              "      <td>Ken Shamrock</td>\n",
              "      <td>False</td>\n",
              "    </tr>\n",
              "    <tr>\n",
              "      <th>5141</th>\n",
              "      <td>Art Jimmerson</td>\n",
              "      <td>1993</td>\n",
              "      <td>Royce Gracie</td>\n",
              "      <td>False</td>\n",
              "    </tr>\n",
              "    <tr>\n",
              "      <th>5142</th>\n",
              "      <td>Zane Frazier</td>\n",
              "      <td>1993</td>\n",
              "      <td>Kevin Rosier</td>\n",
              "      <td>False</td>\n",
              "    </tr>\n",
              "    <tr>\n",
              "      <th>5143</th>\n",
              "      <td>Teila Tuli</td>\n",
              "      <td>1993</td>\n",
              "      <td>Gerard Gordeau</td>\n",
              "      <td>False</td>\n",
              "    </tr>\n",
              "  </tbody>\n",
              "</table>\n",
              "<p>10288 rows × 4 columns</p>\n",
              "</div>"
            ],
            "text/plain": [
              "                   Fighter  fight_year                Winner  Winner_T\n",
              "0             Henry Cejudo        2019          Henry Cejudo      True\n",
              "1     Valentina Shevchenko        2019  Valentina Shevchenko      True\n",
              "2            Tony Ferguson        2019         Tony Ferguson      True\n",
              "3            Jimmie Rivera        2019              Petr Yan     False\n",
              "4              Tai Tuivasa        2019         Blagoy Ivanov     False\n",
              "...                    ...         ...                   ...       ...\n",
              "5139          Kevin Rosier        1993        Gerard Gordeau     False\n",
              "5140         Patrick Smith        1993          Ken Shamrock     False\n",
              "5141         Art Jimmerson        1993          Royce Gracie     False\n",
              "5142          Zane Frazier        1993          Kevin Rosier     False\n",
              "5143            Teila Tuli        1993        Gerard Gordeau     False\n",
              "\n",
              "[10288 rows x 4 columns]"
            ]
          },
          "metadata": {
            "tags": []
          },
          "execution_count": 474
        }
      ]
    },
    {
      "cell_type": "code",
      "metadata": {
        "id": "9OXDhejhV4qK"
      },
      "source": [
        "top_fights = RB_fighter.groupby('Fighter')['fight_year'].count().sort_values(ascending=False)[:20].to_frame()\n",
        "top_wins = RB_fighter.groupby('Fighter')['Winner_T'].sum().sort_values(ascending=False)[:20].to_frame()"
      ],
      "execution_count": null,
      "outputs": []
    },
    {
      "cell_type": "code",
      "metadata": {
        "colab": {
          "base_uri": "https://localhost:8080/",
          "height": 363
        },
        "id": "bwXf-7usX_bC",
        "outputId": "e9798d8b-8472-4ff4-ba81-b28e5163d976"
      },
      "source": [
        "top_wins.plot(kind='bar')"
      ],
      "execution_count": null,
      "outputs": [
        {
          "output_type": "execute_result",
          "data": {
            "text/plain": [
              "<matplotlib.axes._subplots.AxesSubplot at 0x7f7ce3d0a3c8>"
            ]
          },
          "metadata": {
            "tags": []
          },
          "execution_count": 490
        },
        {
          "output_type": "display_data",
          "data": {
            "image/png": "[encoded data removed]",
            "text/plain": [
              "<Figure size 432x288 with 1 Axes>"
            ]
          },
          "metadata": {
            "tags": []
          }
        }
      ]
    },
    {
      "cell_type": "code",
      "metadata": {
        "id": "5aOwzR89MF9v"
      },
      "source": [
        ""
      ],
      "execution_count": null,
      "outputs": []
    }
  ]
}